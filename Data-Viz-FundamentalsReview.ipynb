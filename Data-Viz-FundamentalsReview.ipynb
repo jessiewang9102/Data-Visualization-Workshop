{
 "cells": [
  {
   "cell_type": "markdown",
   "metadata": {
    "slideshow": {
     "slide_type": "skip"
    }
   },
   "source": [
    "[![Open In Colab](https://colab.research.google.com/assets/colab-badge.svg)](https://colab.research.google.com/github/nishantsule/Data-Visualization-Workshop/blob/master/Data-Viz-FundamentalsReview.ipynb)"
   ]
  },
  {
   "cell_type": "markdown",
   "metadata": {
    "slideshow": {
     "slide_type": "slide"
    }
   },
   "source": [
    "# Fundamentals of Data Visualization using Python"
   ]
  },
  {
   "cell_type": "markdown",
   "metadata": {
    "slideshow": {
     "slide_type": "slide"
    }
   },
   "source": [
    "## A brief introduction to dealing with data in Python\n",
    "\n",
    "First off, let's review some basics of Python and some useful libraries that we will use to work with the data and for creating plots.\n",
    "\n",
    "If you have programmed before in Python, this initial parts maybe slow. If you haven't used Python before, this might be a bit challenging but hopefully should be useful to get started."
   ]
  },
  {
   "cell_type": "markdown",
   "metadata": {
    "slideshow": {
     "slide_type": "subslide"
    }
   },
   "source": [
    "You are running this notebook on [Colab](colab.research.google.com). You will notice buttons in the top left that say \"+ Code\" and \"+ Text\". The \"+ Code\" adds a code cell and the \"+ Text\" a text cell. If you want to try them out, select this cell by clicking on it, then press the \"+ Text\". A new cell should appear below this one.\n",
    "\n",
    "You can type in the cell and use the buttons to format it, or you can mark up the text using [Markdown](https://www.markdownguide.org/basic-syntax/). When you are done, hold down Shift and press Enter, which will format the text you just typed and then move to the next cell. (Shift + Enter will also be useful to run code cells as we will see down below)."
   ]
  },
  {
   "cell_type": "markdown",
   "metadata": {
    "slideshow": {
     "slide_type": "subslide"
    }
   },
   "source": [
    "The first thing to try out with Python is that it can be used as a scripting language. With numbers in particular, it can be used simply as a calculator. Create a code cell below and try out some simple arithmatic operations. The operators for basic arithmatic are `+`, `-`, `*`, and `/`, representing addition, subtraction, multiplication, and division, respectively. To run a code cell you can click on the \"Play\" button on the left of the cell or simply hold Shift and press Enter. "
   ]
  },
  {
   "cell_type": "code",
   "execution_count": 6,
   "metadata": {
    "slideshow": {
     "slide_type": "subslide"
    }
   },
   "outputs": [
    {
     "data": {
      "text/plain": [
       "34.6"
      ]
     },
     "execution_count": 6,
     "metadata": {},
     "output_type": "execute_result"
    }
   ],
   "source": [
    "34 + 6 / 10"
   ]
  },
  {
   "cell_type": "code",
   "execution_count": 7,
   "metadata": {
    "slideshow": {
     "slide_type": "subslide"
    }
   },
   "outputs": [
    {
     "data": {
      "text/plain": [
       "4.0"
      ]
     },
     "execution_count": 7,
     "metadata": {},
     "output_type": "execute_result"
    }
   ],
   "source": [
    "(34 + 6) / 10"
   ]
  },
  {
   "cell_type": "markdown",
   "metadata": {
    "slideshow": {
     "slide_type": "subslide"
    }
   },
   "source": [
    "Notice that parantheses are important to distinguish the order of arithmatic operations. "
   ]
  },
  {
   "cell_type": "markdown",
   "metadata": {
    "slideshow": {
     "slide_type": "slide"
    }
   },
   "source": [
    "### Numpy"
   ]
  },
  {
   "cell_type": "markdown",
   "metadata": {
    "slideshow": {
     "slide_type": "subslide"
    }
   },
   "source": [
    "Next, we will look at a very useful library for more advanced mathematical computations called `Numpy`. We can import any library in Python using the `import` keyword as shown below."
   ]
  },
  {
   "cell_type": "code",
   "execution_count": 8,
   "metadata": {
    "slideshow": {
     "slide_type": "fragment"
    }
   },
   "outputs": [],
   "source": [
    "import numpy as np"
   ]
  },
  {
   "cell_type": "markdown",
   "metadata": {
    "slideshow": {
     "slide_type": "subslide"
    }
   },
   "source": [
    "Once imported, any variables, keywords, functions, methods etc. from the library can be accessed using the `np.` prefix as you can see below."
   ]
  },
  {
   "cell_type": "code",
   "execution_count": 9,
   "metadata": {
    "slideshow": {
     "slide_type": "fragment"
    }
   },
   "outputs": [
    {
     "name": "stdout",
     "output_type": "stream",
     "text": [
      "Pi = 3.141592653589793\n",
      "Sin(pi/2) = 1.0\n"
     ]
    }
   ],
   "source": [
    "print('Pi =', np.pi)\n",
    "print('Sin(pi/2) =', np.sin(np.pi / 2))"
   ]
  },
  {
   "cell_type": "markdown",
   "metadata": {
    "slideshow": {
     "slide_type": "subslide"
    }
   },
   "source": [
    "`Numpy` is most useful because of arrays. Arrays are collections of numbers where one can perform operations on all of them at once or even access them one at a time. Two very useful ways to generate arrays are using the functions `linspace` and `arange`. `linspace` produces linearly spaced numbers given a *start*, *stop*, and the *number of points*, whereas `arange` produces linearly spaced numbers given the *start*, *stop*, and the *step* between individual points. Run the examples below to see this in action. **Note** that in `arange`, the last point, i.e. *stop* is not included."
   ]
  },
  {
   "cell_type": "code",
   "execution_count": 10,
   "metadata": {
    "slideshow": {
     "slide_type": "fragment"
    }
   },
   "outputs": [
    {
     "name": "stdout",
     "output_type": "stream",
     "text": [
      "[0. 1. 2. 3. 4. 5.]\n"
     ]
    }
   ],
   "source": [
    "print(np.linspace(0, 5, 6))  # 0=start, 5=stop, 6=number of points"
   ]
  },
  {
   "cell_type": "code",
   "execution_count": 11,
   "metadata": {
    "slideshow": {
     "slide_type": "fragment"
    }
   },
   "outputs": [
    {
     "name": "stdout",
     "output_type": "stream",
     "text": [
      "[0 1 2 3 4]\n"
     ]
    }
   ],
   "source": [
    "print(np.arange(0, 5, 1))  # 0=start, 5=stop (non inclusive), 1=step"
   ]
  },
  {
   "cell_type": "markdown",
   "metadata": {
    "slideshow": {
     "slide_type": "slide"
    }
   },
   "source": [
    "### Saving your work"
   ]
  },
  {
   "cell_type": "markdown",
   "metadata": {
    "slideshow": {
     "slide_type": "subslide"
    }
   },
   "source": [
    "On Colab press the \"Copy to Drive\" button (near the upper left), which saves a copy of this notebook in your Google Drive.\n",
    "If you want to change the name of the file, you can click on the name in the upper left.\n",
    "If you don't use Google Drive, look under the File menu to see other options.\n",
    "Once you make a copy, any additional changes you make will be saved automatically, so now you can continue without worrying about losing your work."
   ]
  },
  {
   "cell_type": "markdown",
   "metadata": {
    "slideshow": {
     "slide_type": "slide"
    }
   },
   "source": [
    "### Variables: Numeric, Strings, Date/Times, Location"
   ]
  },
  {
   "cell_type": "markdown",
   "metadata": {
    "slideshow": {
     "slide_type": "subslide"
    }
   },
   "source": [
    "A variable is essentially a name that refers to a value. The value of a variable can take many different forms. Some of the more commonly used types are numeric, strings, date/times, and locations. Let's explore these below."
   ]
  },
  {
   "cell_type": "markdown",
   "metadata": {
    "slideshow": {
     "slide_type": "subslide"
    }
   },
   "source": [
    "**Numeric**"
   ]
  },
  {
   "cell_type": "code",
   "execution_count": 12,
   "metadata": {
    "slideshow": {
     "slide_type": "fragment"
    }
   },
   "outputs": [
    {
     "name": "stdout",
     "output_type": "stream",
     "text": [
      "x = [0 1 2 3 4]\n",
      "e^x = [ 1.          2.71828183  7.3890561  20.08553692 54.59815003]\n"
     ]
    }
   ],
   "source": [
    "x = np.arange(0, 5, 1)\n",
    "y = np.exp(x)\n",
    "print('x =', x)\n",
    "print('e^x =', y)"
   ]
  },
  {
   "cell_type": "markdown",
   "metadata": {
    "slideshow": {
     "slide_type": "subslide"
    }
   },
   "source": [
    "**Strings**"
   ]
  },
  {
   "cell_type": "code",
   "execution_count": 13,
   "metadata": {
    "slideshow": {
     "slide_type": "fragment"
    }
   },
   "outputs": [
    {
     "name": "stdout",
     "output_type": "stream",
     "text": [
      "Democratic presidential candidates: ['Sanders', 'Biden', 'Warren', 'Buttigieg', 'Klobuchar', 'Bloomberg']\n"
     ]
    }
   ],
   "source": [
    "names = ['Sanders', 'Biden', 'Warren', 'Buttigieg', 'Klobuchar', 'Bloomberg']\n",
    "print('Democratic presidential candidates:', names)"
   ]
  },
  {
   "cell_type": "markdown",
   "metadata": {
    "slideshow": {
     "slide_type": "subslide"
    }
   },
   "source": [
    "**Date/Times**"
   ]
  },
  {
   "cell_type": "markdown",
   "metadata": {
    "slideshow": {
     "slide_type": "subslide"
    }
   },
   "source": [
    "Dates, times, timedeltas etc. are very useful and frequently used variable types. Although Python has a native support for datetime variable types which is included in the module `datetime`, we will use a different library called `pandas`. `pandas`, short for Python for Data Analysis, is extremely useful when it comes to working with large sets of data and datetimes variables are often encountered in large datasets, which `pandas` can help manipulate. Import `pandas` as shown below."
   ]
  },
  {
   "cell_type": "code",
   "execution_count": 14,
   "metadata": {
    "slideshow": {
     "slide_type": "fragment"
    }
   },
   "outputs": [],
   "source": [
    "import pandas as pd"
   ]
  },
  {
   "cell_type": "markdown",
   "metadata": {
    "slideshow": {
     "slide_type": "subslide"
    }
   },
   "source": [
    "`pandas` has a function called `Timestamp` that can convert certain formats of strings into datetime variables as shown below."
   ]
  },
  {
   "cell_type": "code",
   "execution_count": 15,
   "metadata": {
    "slideshow": {
     "slide_type": "fragment"
    }
   },
   "outputs": [
    {
     "data": {
      "text/plain": [
       "Timestamp('2020-03-11 10:15:00')"
      ]
     },
     "execution_count": 15,
     "metadata": {},
     "output_type": "execute_result"
    }
   ],
   "source": [
    "pd.Timestamp('10:15:00')"
   ]
  },
  {
   "cell_type": "code",
   "execution_count": 16,
   "metadata": {
    "slideshow": {
     "slide_type": "fragment"
    }
   },
   "outputs": [
    {
     "name": "stdout",
     "output_type": "stream",
     "text": [
      "1984-07-09 19:42:00\n"
     ]
    }
   ],
   "source": [
    "date_of_birth = pd.Timestamp('July 9, 1984, 7:42pm')\n",
    "print(date_of_birth)"
   ]
  },
  {
   "cell_type": "markdown",
   "metadata": {
    "slideshow": {
     "slide_type": "subslide"
    }
   },
   "source": [
    "For a datetime variable, you can find the year, month, day, name of the day, name of the month etc as shown below."
   ]
  },
  {
   "cell_type": "code",
   "execution_count": 17,
   "metadata": {
    "slideshow": {
     "slide_type": "fragment"
    }
   },
   "outputs": [
    {
     "name": "stdout",
     "output_type": "stream",
     "text": [
      "1984\n",
      "7\n",
      "9\n"
     ]
    }
   ],
   "source": [
    "print(date_of_birth.year)\n",
    "print(date_of_birth.month)\n",
    "print(date_of_birth.day)"
   ]
  },
  {
   "cell_type": "code",
   "execution_count": 18,
   "metadata": {
    "slideshow": {
     "slide_type": "fragment"
    }
   },
   "outputs": [
    {
     "name": "stdout",
     "output_type": "stream",
     "text": [
      "Monday\n",
      "July\n"
     ]
    }
   ],
   "source": [
    "print(date_of_birth.day_name())\n",
    "print(date_of_birth.month_name())"
   ]
  },
  {
   "cell_type": "markdown",
   "metadata": {
    "slideshow": {
     "slide_type": "subslide"
    }
   },
   "source": [
    "You can perform datetime operations such as finding the `Timedelta` using variables that are `Timestamp`. You can also obtain all the components of a `Timedelta` using `components`, as shown below."
   ]
  },
  {
   "cell_type": "code",
   "execution_count": 19,
   "metadata": {
    "slideshow": {
     "slide_type": "fragment"
    }
   },
   "outputs": [
    {
     "name": "stdout",
     "output_type": "stream",
     "text": [
      "13028 days 15:48:58.104131\n"
     ]
    }
   ],
   "source": [
    "now = pd.Timestamp.now()\n",
    "age = now - date_of_birth\n",
    "print(age)"
   ]
  },
  {
   "cell_type": "code",
   "execution_count": 20,
   "metadata": {
    "slideshow": {
     "slide_type": "fragment"
    }
   },
   "outputs": [
    {
     "data": {
      "text/plain": [
       "Components(days=13028, hours=15, minutes=48, seconds=58, milliseconds=104, microseconds=131, nanoseconds=0)"
      ]
     },
     "execution_count": 20,
     "metadata": {},
     "output_type": "execute_result"
    }
   ],
   "source": [
    "age.components"
   ]
  },
  {
   "cell_type": "markdown",
   "metadata": {
    "slideshow": {
     "slide_type": "subslide"
    }
   },
   "source": [
    "**Location**"
   ]
  },
  {
   "cell_type": "markdown",
   "metadata": {
    "slideshow": {
     "slide_type": "subslide"
    }
   },
   "source": [
    "We can store the latitute and longitude information of any location as a pair of numbers. Python again has libraries that can be used to convert these pairs of numbers into geographic information and for example let us place points on a map. We will look one such library called `geopandas` later on in the workshop. For now, we can assign more than one value to a variable in Python. This is called a tuple. "
   ]
  },
  {
   "cell_type": "code",
   "execution_count": 21,
   "metadata": {
    "slideshow": {
     "slide_type": "fragment"
    }
   },
   "outputs": [
    {
     "name": "stdout",
     "output_type": "stream",
     "text": [
      "(42.3601, -71.0589)\n"
     ]
    }
   ],
   "source": [
    "lat = 42.3601\n",
    "lon = -71.0589\n",
    "boston = lat, lon\n",
    "print(boston)"
   ]
  },
  {
   "cell_type": "markdown",
   "metadata": {
    "slideshow": {
     "slide_type": "subslide"
    }
   },
   "source": [
    "**Side Note: Lists**"
   ]
  },
  {
   "cell_type": "markdown",
   "metadata": {
    "slideshow": {
     "slide_type": "subslide"
    }
   },
   "source": [
    "Python provides another handy way to store a sequence of elements, which is known as a list.\n",
    "To create a list, you put a sequence of elements in square brackets. A list is very useful in scenarios where the number of elements is changing or is unknown. A list can also be used to store elements of different types. We can add an element at the end of a list using the `append` method."
   ]
  },
  {
   "cell_type": "code",
   "execution_count": 22,
   "metadata": {
    "slideshow": {
     "slide_type": "fragment"
    }
   },
   "outputs": [
    {
     "name": "stdout",
     "output_type": "stream",
     "text": [
      "[]\n"
     ]
    }
   ],
   "source": [
    "list1 = []  # creates an empty list\n",
    "print(list1)"
   ]
  },
  {
   "cell_type": "code",
   "execution_count": 23,
   "metadata": {
    "slideshow": {
     "slide_type": "fragment"
    }
   },
   "outputs": [
    {
     "name": "stdout",
     "output_type": "stream",
     "text": [
      "[1, 2, 3, 'Hello']\n"
     ]
    }
   ],
   "source": [
    "list2 = [1, 2, 3, 'Hello']  # creates a list with provided elements\n",
    "print(list2)"
   ]
  },
  {
   "cell_type": "code",
   "execution_count": 24,
   "metadata": {
    "slideshow": {
     "slide_type": "fragment"
    }
   },
   "outputs": [
    {
     "name": "stdout",
     "output_type": "stream",
     "text": [
      "[1, 2, 3, 'Hello', 'World']\n",
      "[1, 2, 3, 'Hello', 'World', 4]\n"
     ]
    }
   ],
   "source": [
    "list2.append('World')\n",
    "print(list2)\n",
    "\n",
    "list2.append(4)\n",
    "print(list2)"
   ]
  },
  {
   "cell_type": "markdown",
   "metadata": {
    "slideshow": {
     "slide_type": "subslide"
    }
   },
   "source": [
    "Let's bring what we have looked at so far together with a couple of small exercises."
   ]
  },
  {
   "cell_type": "markdown",
   "metadata": {
    "slideshow": {
     "slide_type": "slide"
    }
   },
   "source": [
    "### Exercise 1"
   ]
  },
  {
   "cell_type": "markdown",
   "metadata": {
    "slideshow": {
     "slide_type": "subslide"
    }
   },
   "source": [
    "**A.** Covert the two lists below to a `Timestamp`. \n",
    "\n",
    "*Hint:* This requires writing a `for` loop."
   ]
  },
  {
   "cell_type": "code",
   "execution_count": 25,
   "metadata": {
    "slideshow": {
     "slide_type": "fragment"
    }
   },
   "outputs": [],
   "source": [
    "date_of_birth = ['June 14, 1946', 'Aug 4, 1961', 'July 6, 1946', \n",
    "                 'Aug 19, 1946', 'June 12, 1924', 'Feb 6, 1911', 'Oct 1, 1924']\n",
    "year = [2017, 2009, 2001, 1993, 1989, 1981, 1977]"
   ]
  },
  {
   "cell_type": "code",
   "execution_count": 26,
   "metadata": {
    "slideshow": {
     "slide_type": "fragment"
    }
   },
   "outputs": [
    {
     "name": "stdout",
     "output_type": "stream",
     "text": [
      "[Timestamp('1946-06-14 00:00:00'), Timestamp('1961-08-04 00:00:00'), Timestamp('1946-07-06 00:00:00'), Timestamp('1946-08-19 00:00:00'), Timestamp('1924-06-12 00:00:00'), Timestamp('1911-02-06 00:00:00'), Timestamp('1924-10-01 00:00:00')]\n",
      "[Timestamp('2017-01-01 00:00:00'), Timestamp('2009-01-01 00:00:00'), Timestamp('2001-01-01 00:00:00'), Timestamp('1993-01-01 00:00:00'), Timestamp('1989-01-01 00:00:00'), Timestamp('1981-01-01 00:00:00'), Timestamp('1977-01-01 00:00:00')]\n"
     ]
    }
   ],
   "source": [
    "# Solution\n",
    "\n",
    "for i in range (len(date_of_birth)):\n",
    "    temp = pd.Timestamp(date_of_birth[i])\n",
    "    date_of_birth[i] = temp\n",
    "print(date_of_birth)\n",
    "\n",
    "for i in range (len(year)):\n",
    "    temp = pd.Timestamp(str(year[i]))\n",
    "    year[i] = temp  \n",
    "print(year)"
   ]
  },
  {
   "cell_type": "markdown",
   "metadata": {
    "slideshow": {
     "slide_type": "subslide"
    }
   },
   "source": [
    "**B.** You perhaps guessed this already, but if not read on. The `date_of_birth` list contains dates of birth of the last seven US Presidents and the `year` list contains the year they took office. Now create a list called `age` and populate it with the age in years of the last seven US Presidents when they took office.\n",
    "\n",
    "*Hint:* You can use find the difference between the `Timestamp` to calculate the `Timedelta`. The `Timedelta` will be in days, so to approximate the age years divide the number of days by 365 and round the value to an integer."
   ]
  },
  {
   "cell_type": "code",
   "execution_count": 30,
   "metadata": {
    "slideshow": {
     "slide_type": "fragment"
    }
   },
   "outputs": [
    {
     "name": "stdout",
     "output_type": "stream",
     "text": [
      "[70, 47, 54, 46, 64, 69, 52]\n"
     ]
    }
   ],
   "source": [
    "# Solution\n",
    "\n",
    "age = []\n",
    "for i in range(len(year)):\n",
    "    age_td = year[i] - date_of_birth[i]\n",
    "    age_num = int(age_td.days / 365)\n",
    "    age.append(age_num)\n",
    "print(age)"
   ]
  },
  {
   "cell_type": "markdown",
   "metadata": {
    "slideshow": {
     "slide_type": "slide"
    }
   },
   "source": [
    "## Principles of effective data visualizations"
   ]
  },
  {
   "cell_type": "markdown",
   "metadata": {
    "slideshow": {
     "slide_type": "slide"
    }
   },
   "source": [
    "***1. Have graphical integrity***\n",
    "\n",
    "(Do not try to mislead using data visualizations)"
   ]
  },
  {
   "cell_type": "markdown",
   "metadata": {
    "slideshow": {
     "slide_type": "subslide"
    }
   },
   "source": [
    "![img](https://raw.githubusercontent.com/nishantsule/Data-Visualization-Workshop/master/Images/Bush-cuts.png)"
   ]
  },
  {
   "cell_type": "markdown",
   "metadata": {
    "slideshow": {
     "slide_type": "subslide"
    }
   },
   "source": [
    "![img](https://raw.githubusercontent.com/nishantsule/Data-Visualization-Workshop/master/Images/Fox-chart-corrected.png)"
   ]
  },
  {
   "cell_type": "markdown",
   "metadata": {
    "slideshow": {
     "slide_type": "subslide"
    }
   },
   "source": [
    "![img](https://raw.githubusercontent.com/nishantsule/Data-Visualization-Workshop/master/Images/unemployment_fox.png)"
   ]
  },
  {
   "cell_type": "markdown",
   "metadata": {
    "slideshow": {
     "slide_type": "subslide"
    }
   },
   "source": [
    "![img](https://raw.githubusercontent.com/nishantsule/Data-Visualization-Workshop/master/Images/unemployment_fox_corrected.png)"
   ]
  },
  {
   "cell_type": "markdown",
   "metadata": {
    "slideshow": {
     "slide_type": "subslide"
    }
   },
   "source": [
    "![img](https://raw.githubusercontent.com/nishantsule/Data-Visualization-Workshop/master/Images/dailymail_warming.jpg)"
   ]
  },
  {
   "cell_type": "markdown",
   "metadata": {
    "slideshow": {
     "slide_type": "subslide"
    }
   },
   "source": [
    "![img](https://raw.githubusercontent.com/nishantsule/Data-Visualization-Workshop/master/Images/dailymail_warming_corrected1.jpg)"
   ]
  },
  {
   "cell_type": "markdown",
   "metadata": {
    "slideshow": {
     "slide_type": "subslide"
    }
   },
   "source": [
    "![img](https://raw.githubusercontent.com/nishantsule/Data-Visualization-Workshop/master/Images/dailymail_warming_corrected2.jpg)"
   ]
  },
  {
   "cell_type": "markdown",
   "metadata": {
    "slideshow": {
     "slide_type": "slide"
    }
   },
   "source": [
    "***2. Keep it simple***\n",
    "\n",
    "(Avoid chart junk, maximize data-ink ratio)"
   ]
  },
  {
   "cell_type": "markdown",
   "metadata": {
    "slideshow": {
     "slide_type": "subslide"
    }
   },
   "source": [
    "![img](https://raw.githubusercontent.com/nishantsule/Data-Visualization-Workshop/master/Images/complexbar.png)"
   ]
  },
  {
   "cell_type": "markdown",
   "metadata": {
    "slideshow": {
     "slide_type": "subslide"
    }
   },
   "source": [
    "![img](https://raw.githubusercontent.com/nishantsule/Data-Visualization-Workshop/master/Images/complexbar_fixed.png)"
   ]
  },
  {
   "cell_type": "markdown",
   "metadata": {
    "slideshow": {
     "slide_type": "subslide"
    }
   },
   "source": [
    "![img](https://raw.githubusercontent.com/nishantsule/Data-Visualization-Workshop/master/Images/chartjunk1.png)"
   ]
  },
  {
   "cell_type": "markdown",
   "metadata": {
    "slideshow": {
     "slide_type": "subslide"
    }
   },
   "source": [
    "![img](https://raw.githubusercontent.com/nishantsule/Data-Visualization-Workshop/master/Images/chartjunk2.png)"
   ]
  },
  {
   "cell_type": "markdown",
   "metadata": {
    "slideshow": {
     "slide_type": "subslide"
    }
   },
   "source": [
    "![img](https://raw.githubusercontent.com/nishantsule/Data-Visualization-Workshop/master/Images/chartjunk3.png)"
   ]
  },
  {
   "cell_type": "markdown",
   "metadata": {
    "slideshow": {
     "slide_type": "subslide"
    }
   },
   "source": [
    "![img](https://raw.githubusercontent.com/nishantsule/Data-Visualization-Workshop/master/Images/chartjunk4.png)"
   ]
  },
  {
   "cell_type": "markdown",
   "metadata": {
    "slideshow": {
     "slide_type": "subslide"
    }
   },
   "source": [
    "![img](https://raw.githubusercontent.com/nishantsule/Data-Visualization-Workshop/master/Images/chartjunk5.png)"
   ]
  },
  {
   "cell_type": "markdown",
   "metadata": {
    "slideshow": {
     "slide_type": "slide"
    }
   },
   "source": [
    "***3. Adapt to your audience***\n",
    "\n",
    "(Know your audience or make it neutral)"
   ]
  },
  {
   "cell_type": "markdown",
   "metadata": {
    "slideshow": {
     "slide_type": "subslide"
    }
   },
   "source": [
    "![img](https://raw.githubusercontent.com/nishantsule/Data-Visualization-Workshop/master/Images/Same-charts-different-message.png)"
   ]
  },
  {
   "cell_type": "markdown",
   "metadata": {
    "slideshow": {
     "slide_type": "slide"
    }
   },
   "source": [
    "***4. Use the right display***\n",
    "\n",
    "(Appropriate plot types)"
   ]
  },
  {
   "cell_type": "markdown",
   "metadata": {
    "slideshow": {
     "slide_type": "subslide"
    }
   },
   "source": [
    "![img](https://raw.githubusercontent.com/nishantsule/Data-Visualization-Workshop/master/Images/wrongchart.png)"
   ]
  },
  {
   "cell_type": "markdown",
   "metadata": {
    "slideshow": {
     "slide_type": "slide"
    }
   },
   "source": [
    "***5. Use color strategically***\n",
    "\n",
    "(Do not overuse color, consider colorblindness)"
   ]
  },
  {
   "cell_type": "markdown",
   "metadata": {
    "slideshow": {
     "slide_type": "subslide"
    }
   },
   "source": [
    "![img](https://raw.githubusercontent.com/nishantsule/Data-Visualization-Workshop/master/Images/Colorblindness.png)"
   ]
  },
  {
   "cell_type": "markdown",
   "metadata": {
    "slideshow": {
     "slide_type": "slide"
    }
   },
   "source": [
    "# Using `Matplotlib` for data visualization"
   ]
  },
  {
   "cell_type": "markdown",
   "metadata": {
    "slideshow": {
     "slide_type": "subslide"
    }
   },
   "source": [
    "Let's try to apply the \"Principles\" from above in practice and visualize the data from Excersice 1. The library we'll use for plotting is `Matplotlib`; more specifically, we'll use a part of it called `Pyplot`, which we'll import with the nickname `plt`."
   ]
  },
  {
   "cell_type": "code",
   "execution_count": 4,
   "metadata": {
    "slideshow": {
     "slide_type": "fragment"
    }
   },
   "outputs": [],
   "source": [
    "import matplotlib.pyplot as plt"
   ]
  },
  {
   "cell_type": "markdown",
   "metadata": {
    "slideshow": {
     "slide_type": "subslide"
    }
   },
   "source": [
    "`Pyplot` provides a function called `plot` that makes a line plot. It takes two sequences as arguments, the x values and the y values. The sequences can be tuples, lists, or arrays."
   ]
  },
  {
   "cell_type": "markdown",
   "metadata": {
    "slideshow": {
     "slide_type": "subslide"
    }
   },
   "source": [
    "Let's just use the `plot` function to display the ages of US Presidents when they took office. Below is a list of the names of the Presidents and the ages are already in our list variable called `age`. "
   ]
  },
  {
   "cell_type": "code",
   "execution_count": 28,
   "metadata": {
    "slideshow": {
     "slide_type": "fragment"
    }
   },
   "outputs": [],
   "source": [
    "names = ['Donald Trump', 'Barack Obama', 'George W Bush', \n",
    "         'Bill Clinton', 'George H W Bush', 'Ronald Reagan', 'Jimmy Carter']"
   ]
  },
  {
   "cell_type": "code",
   "execution_count": 32,
   "metadata": {
    "slideshow": {
     "slide_type": "fragment"
    }
   },
   "outputs": [
    {
     "data": {
      "image/png": "[encoded data removed]",
      "text/plain": [
       "<Figure size 432x288 with 1 Axes>"
      ]
     },
     "metadata": {},
     "output_type": "display_data"
    }
   ],
   "source": [
    "plt.plot(names, age)\n",
    "plt.show()"
   ]
  },
  {
   "cell_type": "markdown",
   "metadata": {
    "slideshow": {
     "slide_type": "subslide"
    }
   },
   "source": [
    "Clearly, we could do better! What changes could be make to make this a better visualization?"
   ]
  },
  {
   "cell_type": "markdown",
   "metadata": {
    "slideshow": {
     "slide_type": "fragment"
    }
   },
   "source": [
    "1. Make a bar plot\n",
    "2. Rotate the axis tick labels\n",
    "3. Add axis labels"
   ]
  },
  {
   "cell_type": "markdown",
   "metadata": {
    "slideshow": {
     "slide_type": "subslide"
    }
   },
   "source": [
    "Bar plots are more appropriate for categorical data like the one we want to visualize. To make a bar plot, we can use the `bar` function, which works very much like the plot function. Now, we could either rotate the x axis tick labels or simply rotate the entire bar plot so that instead of vertical bars, we have horizontal bars. To generate a horizontal bar plot, use the function `barh`. We can add axis labels by calling the `xlabel` and `ylabel` functions from `pyplot`. "
   ]
  },
  {
   "cell_type": "code",
   "execution_count": 33,
   "metadata": {
    "slideshow": {
     "slide_type": "subslide"
    }
   },
   "outputs": [
    {
     "data": {
      "image/png": "[encoded data removed]",
      "text/plain": [
       "<Figure size 432x288 with 1 Axes>"
      ]
     },
     "metadata": {},
     "output_type": "display_data"
    }
   ],
   "source": [
    "plt.barh(names, age)\n",
    "plt.xlabel('Age')\n",
    "plt.ylabel('Names')\n",
    "plt.show()"
   ]
  },
  {
   "cell_type": "markdown",
   "metadata": {
    "slideshow": {
     "slide_type": "subslide"
    }
   },
   "source": [
    "Now, let's try to maximize the data ink to total ink ratio! We could get rid of the box and tick marks and place white grid lines for better readability. The `box` function takes Boolean keywords to turn the box on or off. `tick_params` is a function that provides a lot of functionality to tweak the axes tick parameters. At this point it will be instructive to take a look at the [documentation](https://matplotlib.org/3.1.3/api/_as_gen/matplotlib.pyplot.tick_params.html) and try to understand how to use the function. Finally, the `grid` function can be used to generate the white grid lines. \n",
    "Also, do we really need a y label? It is more or less obvious that the y axis displays names. So, we could remove the y label as well."
   ]
  },
  {
   "cell_type": "code",
   "execution_count": 42,
   "metadata": {
    "slideshow": {
     "slide_type": "subslide"
    }
   },
   "outputs": [
    {
     "data": {
      "image/png": "[encoded data removed]",
      "text/plain": [
       "<Figure size 432x288 with 1 Axes>"
      ]
     },
     "metadata": {},
     "output_type": "display_data"
    }
   ],
   "source": [
    "plt.barh(names, age)\n",
    "plt.xlabel('Age')\n",
    "plt.box(False)\n",
    "plt.tick_params(axis='both', which='both', bottom=False, left=False)\n",
    "plt.grid(True, which='major', axis='x', color='w');\n",
    "plt.show()"
   ]
  },
  {
   "cell_type": "markdown",
   "metadata": {
    "slideshow": {
     "slide_type": "subslide"
    }
   },
   "source": [
    "What else can we do to make this better?\n",
    "We know there are two types of US Presidents (Democrats and Republicans), right? Could we use color to indicate that? Below is a list of colors coressponding to the color of that President's party. We can use the keyword `color` in the `barh` function and provide this list to color the bars appropriately. "
   ]
  },
  {
   "cell_type": "code",
   "execution_count": 47,
   "metadata": {
    "slideshow": {
     "slide_type": "fragment"
    }
   },
   "outputs": [],
   "source": [
    "party_color = ['red', 'blue', 'red', 'blue', 'red', 'red', 'blue']"
   ]
  },
  {
   "cell_type": "code",
   "execution_count": 48,
   "metadata": {
    "slideshow": {
     "slide_type": "subslide"
    }
   },
   "outputs": [
    {
     "data": {
      "image/png": "[encoded data removed]",
      "text/plain": [
       "<Figure size 432x288 with 1 Axes>"
      ]
     },
     "metadata": {},
     "output_type": "display_data"
    }
   ],
   "source": [
    "plt.barh(names, age, color=party_color)\n",
    "plt.xlabel('Age')\n",
    "plt.box(False)\n",
    "plt.tick_params(axis='both', which='both', bottom=False, left=False)\n",
    "plt.grid(True, which='major', axis='x', color='w');\n",
    "plt.show()"
   ]
  },
  {
   "cell_type": "markdown",
   "metadata": {
    "slideshow": {
     "slide_type": "subslide"
    }
   },
   "source": [
    "The \"red\" and \"blue\" colors in the plot above are quite over-saturated. `Matplotlib` recognizes a large number of different colors as you might find in [this page](https://matplotlib.org/tutorials/colors/colors.html). One option to keep the color names human readable is to use the colors specified in [the xkcd color survey](https://xkcd.com/color/rgb/). The way to specify these colors is to prefix the color name by \"xkcd:\" (e.g., 'xkcd:sky blue') in the string used to specify the color argument.\n",
    "Let's modify the `party_color` list such that the \"red\" string is now \"xkcd:light red\" and the \"blue\" string is \"xkcd:cerulean\" and re-plot the figure."
   ]
  },
  {
   "cell_type": "code",
   "execution_count": 49,
   "metadata": {
    "slideshow": {
     "slide_type": "fragment"
    }
   },
   "outputs": [],
   "source": [
    "for i in range(len(party_color)):\n",
    "    if party_color[i] == 'red':\n",
    "        party_color[i] = 'xkcd:light red'\n",
    "    elif party_color[i] == 'blue':\n",
    "        party_color[i] = 'xkcd:cerulean'"
   ]
  },
  {
   "cell_type": "code",
   "execution_count": 50,
   "metadata": {
    "slideshow": {
     "slide_type": "subslide"
    }
   },
   "outputs": [
    {
     "data": {
      "image/png": "[encoded data removed]",
      "text/plain": [
       "<Figure size 432x288 with 1 Axes>"
      ]
     },
     "metadata": {},
     "output_type": "display_data"
    }
   ],
   "source": [
    "plt.barh(names, age, color=party_color)\n",
    "plt.xlabel('Age')\n",
    "plt.box(False)\n",
    "plt.tick_params(axis='both', which='both', bottom=False, left=False)\n",
    "plt.grid(True, which='major', axis='x', color='w');\n",
    "plt.show()"
   ]
  },
  {
   "cell_type": "markdown",
   "metadata": {
    "slideshow": {
     "slide_type": "subslide"
    }
   },
   "source": [
    "What is wrong with this plot?"
   ]
  },
  {
   "cell_type": "markdown",
   "metadata": {
    "slideshow": {
     "slide_type": "fragment"
    }
   },
   "source": [
    "We don't have a legend to indicate what the colors mean! \n",
    "Creating a legend for this plot is a little tricky, but let's soldier through."
   ]
  },
  {
   "cell_type": "markdown",
   "metadata": {
    "slideshow": {
     "slide_type": "subslide"
    }
   },
   "source": [
    "We first need to create rectangular patches of the same two colors as the bars. We can import the `patches` part of `matplotlib` in order to do that. `patches` has a function called `Patch` that we can use to create the rectangular patches we want including assigning them a label for display. Then all that's left is to call the `legend` function and provide the handles to these patches and specify where to place the legend box. While we are at it, let's also invert the y axis so that the most recent President is at the top and add a title."
   ]
  },
  {
   "cell_type": "code",
   "execution_count": 51,
   "metadata": {
    "slideshow": {
     "slide_type": "fragment"
    }
   },
   "outputs": [],
   "source": [
    "import matplotlib.patches as mpatches\n",
    "red_patch = mpatches.Patch(color='xkcd:light red', label='Republican')\n",
    "blue_patch = mpatches.Patch(color='xkcd:cerulean', label='Democratic')"
   ]
  },
  {
   "cell_type": "code",
   "execution_count": 53,
   "metadata": {
    "slideshow": {
     "slide_type": "subslide"
    }
   },
   "outputs": [
    {
     "data": {
      "image/png": "[encoded data removed]",
      "text/plain": [
       "<Figure size 432x288 with 1 Axes>"
      ]
     },
     "metadata": {},
     "output_type": "display_data"
    }
   ],
   "source": [
    "plt.barh(names, age, color=party_color)\n",
    "plt.xlabel('Age')\n",
    "plt.box(False)\n",
    "plt.tick_params(axis='both', which='both', bottom=False, left=False)\n",
    "plt.grid(True, which='major', axis='x', color='w')\n",
    "plt.title('Age of last 7 US Presidents at the time of taking office');\n",
    "plt.legend(handles=[red_patch, blue_patch], bbox_to_anchor=(1.05, 0.8), loc='lower left')\n",
    "plt.gca().invert_yaxis()\n",
    "plt.show()"
   ]
  },
  {
   "cell_type": "markdown",
   "metadata": {
    "slideshow": {
     "slide_type": "slide"
    }
   },
   "source": [
    "### Exploring relationships\n",
    "\n",
    "Let's explore using the `plot` function some more, this time to explore the relationship between two variables. A common way to visualize relationships is using a \"scatter plot\". Scatter plots are common and readily understood, but they are surprisingly hard to get right."
   ]
  },
  {
   "cell_type": "markdown",
   "metadata": {
    "slideshow": {
     "slide_type": "subslide"
    }
   },
   "source": [
    "Let's look at the relationship between height and weight. we will use data from the Behavioral Risk Factor Surveillance Survey, or BRFSS, which is run by the Centers for Disease Control. The survey includes more than 400,000 respondents, but to keep things manageable, we'll use a random subsample of 100,000. We will again make use of `pandas` for the data handling. You may find code below that is unfamiliar, but we will try to explain each step as we go along."
   ]
  },
  {
   "cell_type": "markdown",
   "metadata": {
    "slideshow": {
     "slide_type": "subslide"
    }
   },
   "source": [
    "The code below let's you download data from the internet by providing a url. "
   ]
  },
  {
   "cell_type": "code",
   "execution_count": 56,
   "metadata": {
    "slideshow": {
     "slide_type": "fragment"
    }
   },
   "outputs": [],
   "source": [
    "import os\n",
    "\n",
    "if not os.path.exists('brfss.hdf5'):\n",
    "    !wget https://github.com/nishantsule/Data-Visualization-Workshop/raw/master/Data/brfss.hdf5"
   ]
  },
  {
   "cell_type": "markdown",
   "metadata": {
    "slideshow": {
     "slide_type": "subslide"
    }
   },
   "source": [
    "`pandas` can read data in most common formats, including CSV, Excel, and the format the NSFG data is in, HDF5. You can read about HDF [here](https://en.wikipedia.org/wiki/Hierarchical_Data_Format). To read files in the hdf format, we can use the function called `read_hdf`. There are coressponding functions called `read_csv`, `read_excel` to read from CSV and excel files, respectively. When we call any of these read functions, the result is a `DataFrame`, which is the primary type `Pandas` uses to store data. To display the first few rows of information in the dataframe, use the method `head`."
   ]
  },
  {
   "cell_type": "code",
   "execution_count": 59,
   "metadata": {
    "slideshow": {
     "slide_type": "subslide"
    }
   },
   "outputs": [
    {
     "data": {
      "text/html": [
       "<div>\n",
       "<style scoped>\n",
       "    .dataframe tbody tr th:only-of-type {\n",
       "        vertical-align: middle;\n",
       "    }\n",
       "\n",
       "    .dataframe tbody tr th {\n",
       "        vertical-align: top;\n",
       "    }\n",
       "\n",
       "    .dataframe thead th {\n",
       "        text-align: right;\n",
       "    }\n",
       "</style>\n",
       "<table border=\"1\" class=\"dataframe\">\n",
       "  <thead>\n",
       "    <tr style=\"text-align: right;\">\n",
       "      <th></th>\n",
       "      <th>SEX</th>\n",
       "      <th>HTM4</th>\n",
       "      <th>WTKG3</th>\n",
       "      <th>INCOME2</th>\n",
       "      <th>_LLCPWT</th>\n",
       "      <th>_AGEG5YR</th>\n",
       "      <th>_VEGESU1</th>\n",
       "      <th>_HTMG10</th>\n",
       "      <th>AGE</th>\n",
       "    </tr>\n",
       "  </thead>\n",
       "  <tbody>\n",
       "    <tr>\n",
       "      <th>96230</th>\n",
       "      <td>2.0</td>\n",
       "      <td>160.0</td>\n",
       "      <td>60.33</td>\n",
       "      <td>8.0</td>\n",
       "      <td>1398.525290</td>\n",
       "      <td>6.0</td>\n",
       "      <td>2.14</td>\n",
       "      <td>150.0</td>\n",
       "      <td>47.0</td>\n",
       "    </tr>\n",
       "    <tr>\n",
       "      <th>244920</th>\n",
       "      <td>2.0</td>\n",
       "      <td>163.0</td>\n",
       "      <td>58.97</td>\n",
       "      <td>5.0</td>\n",
       "      <td>84.057503</td>\n",
       "      <td>13.0</td>\n",
       "      <td>3.14</td>\n",
       "      <td>160.0</td>\n",
       "      <td>89.5</td>\n",
       "    </tr>\n",
       "    <tr>\n",
       "      <th>57312</th>\n",
       "      <td>2.0</td>\n",
       "      <td>163.0</td>\n",
       "      <td>72.57</td>\n",
       "      <td>8.0</td>\n",
       "      <td>390.248599</td>\n",
       "      <td>5.0</td>\n",
       "      <td>2.64</td>\n",
       "      <td>160.0</td>\n",
       "      <td>42.0</td>\n",
       "    </tr>\n",
       "    <tr>\n",
       "      <th>32573</th>\n",
       "      <td>2.0</td>\n",
       "      <td>165.0</td>\n",
       "      <td>74.84</td>\n",
       "      <td>1.0</td>\n",
       "      <td>11566.705300</td>\n",
       "      <td>3.0</td>\n",
       "      <td>1.46</td>\n",
       "      <td>160.0</td>\n",
       "      <td>32.0</td>\n",
       "    </tr>\n",
       "    <tr>\n",
       "      <th>355929</th>\n",
       "      <td>2.0</td>\n",
       "      <td>170.0</td>\n",
       "      <td>108.86</td>\n",
       "      <td>3.0</td>\n",
       "      <td>844.485450</td>\n",
       "      <td>3.0</td>\n",
       "      <td>1.81</td>\n",
       "      <td>160.0</td>\n",
       "      <td>32.0</td>\n",
       "    </tr>\n",
       "  </tbody>\n",
       "</table>\n",
       "</div>"
      ],
      "text/plain": [
       "        SEX   HTM4   WTKG3  INCOME2       _LLCPWT  _AGEG5YR  _VEGESU1  \\\n",
       "96230   2.0  160.0   60.33      8.0   1398.525290       6.0      2.14   \n",
       "244920  2.0  163.0   58.97      5.0     84.057503      13.0      3.14   \n",
       "57312   2.0  163.0   72.57      8.0    390.248599       5.0      2.64   \n",
       "32573   2.0  165.0   74.84      1.0  11566.705300       3.0      1.46   \n",
       "355929  2.0  170.0  108.86      3.0    844.485450       3.0      1.81   \n",
       "\n",
       "        _HTMG10   AGE  \n",
       "96230     150.0  47.0  \n",
       "244920    160.0  89.5  \n",
       "57312     160.0  42.0  \n",
       "32573     160.0  32.0  \n",
       "355929    160.0  32.0  "
      ]
     },
     "execution_count": 59,
     "metadata": {},
     "output_type": "execute_result"
    }
   ],
   "source": [
    "brfss = pd.read_hdf('brfss.hdf5', 'brfss')\n",
    "brfss.head()"
   ]
  },
  {
   "cell_type": "markdown",
   "metadata": {
    "slideshow": {
     "slide_type": "subslide"
    }
   },
   "source": [
    "First let's extract the columns for height in centimeters and weight in kilograms"
   ]
  },
  {
   "cell_type": "code",
   "execution_count": 60,
   "metadata": {
    "slideshow": {
     "slide_type": "fragment"
    }
   },
   "outputs": [],
   "source": [
    "height = brfss['HTM4']\n",
    "weight = brfss['WTKG3']"
   ]
  },
  {
   "cell_type": "markdown",
   "metadata": {
    "slideshow": {
     "slide_type": "subslide"
    }
   },
   "source": [
    "To make a scatter plot, we can simply use the `plot` function but specify the marker to be a circle."
   ]
  },
  {
   "cell_type": "code",
   "execution_count": 64,
   "metadata": {
    "slideshow": {
     "slide_type": "subslide"
    }
   },
   "outputs": [
    {
     "data": {
      "image/png": "[encoded data removed]",
      "text/plain": [
       "<Figure size 432x288 with 1 Axes>"
      ]
     },
     "metadata": {},
     "output_type": "display_data"
    }
   ],
   "source": [
    "plt.plot(height, weight, marker='o', linestyle='')\n",
    "plt.xlabel('Height (cm)')\n",
    "plt.ylabel('Weight (kg)')\n",
    "plt.title('Scatter plot of weight versus height')\n",
    "plt.show()"
   ]
  },
  {
   "cell_type": "markdown",
   "metadata": {
    "slideshow": {
     "slide_type": "subslide"
    }
   },
   "source": [
    "In general, it looks like taller people are heavier, but there are a few things about this scatter plot that make it hard to interpret.\n",
    "\n",
    "Most importantly, it is \"overplotted\", which means that there are data points piled on top of each other so you can't tell where there are a lot of points and where there is just one.\n",
    "\n",
    "When that happens, the results can be really misleading.\n",
    "\n",
    "One way to improve the plot is to use transparency, which we can do with the keyword argument alpha. The lower the value of alpha, the more transparent each data point is.\n",
    "\n",
    "Here's what it looks like with alpha=0.02."
   ]
  },
  {
   "cell_type": "code",
   "execution_count": null,
   "metadata": {},
   "outputs": [],
   "source": []
  }
 ],
 "metadata": {
  "celltoolbar": "Slideshow",
  "kernelspec": {
   "display_name": "Python 3",
   "language": "python",
   "name": "python3"
  },
  "language_info": {
   "codemirror_mode": {
    "name": "ipython",
    "version": 3
   },
   "file_extension": ".py",
   "mimetype": "text/x-python",
   "name": "python",
   "nbconvert_exporter": "python",
   "pygments_lexer": "ipython3",
   "version": "3.6.2"
  }
 },
 "nbformat": 4,
 "nbformat_minor": 2
}
