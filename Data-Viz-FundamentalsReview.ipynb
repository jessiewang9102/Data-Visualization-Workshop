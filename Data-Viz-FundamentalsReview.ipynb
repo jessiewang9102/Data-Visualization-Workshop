{
 "cells": [
  {
   "cell_type": "markdown",
   "metadata": {},
   "source": [
    "[![Open In Colab](https://colab.research.google.com/assets/colab-badge.svg)](https://colab.research.google.com/github/nishantsule/Data-Visualization-Workshop/blob/master/Data-Viz-FundamentalsReview.ipynb)"
   ]
  },
  {
   "cell_type": "markdown",
   "metadata": {},
   "source": [
    "# Fundamentals of Data Visualization using Python"
   ]
  },
  {
   "cell_type": "markdown",
   "metadata": {},
   "source": [
    "## A brief introduction to dealing with data in Python\n",
    "\n",
    "First off, let's review some basics of Python and some useful libraries that we will use to work with the data and for creating plots.\n",
    "\n",
    "If you have programmed before in Python, this initial parts maybe slow. If you haven't used Python before, this might be a bit challenging but hopefully should be useful to get started."
   ]
  },
  {
   "cell_type": "markdown",
   "metadata": {},
   "source": [
    "You are running this notebook on [Colab](colab.research.google.com). You will notice buttons in the top left that say \"+ Code\" and \"+ Text\". The \"+ Code\" adds a code cell and the \"+ Text\" a text cell. If you want to try them out, select this cell by clicking on it, then press the \"+ Text\". A new cell should appear below this one.\n",
    "\n",
    "You can type in the cell and use the buttons to format it, or you can mark up the text using [Markdown](https://www.markdownguide.org/basic-syntax/). When you are done, hold down Shift and press Enter, which will format the text you just typed and then move to the next cell. (Shift + Enter will also be useful to run code cells as we will see down below)."
   ]
  },
  {
   "cell_type": "markdown",
   "metadata": {},
   "source": [
    "The first thing to try out with Python is that it can be used as a scripting language. With numbers in particular, it can be used simply as a calculator. Create a code cell below and try out some simple arithmatic operations. The operators for basic arithmatic are `+`, `-`, `*`, and `/`, representing addition, subtraction, multiplication, and division, respectively. To run a code cell you can click on the \"Play\" button on the left of the cell or simply hold Shift and press Enter. "
   ]
  },
  {
   "cell_type": "code",
   "execution_count": 2,
   "metadata": {},
   "outputs": [
    {
     "data": {
      "text/plain": [
       "34.6"
      ]
     },
     "execution_count": 2,
     "metadata": {},
     "output_type": "execute_result"
    }
   ],
   "source": [
    "34 + 6 / 10"
   ]
  },
  {
   "cell_type": "code",
   "execution_count": 3,
   "metadata": {},
   "outputs": [
    {
     "data": {
      "text/plain": [
       "4.0"
      ]
     },
     "execution_count": 3,
     "metadata": {},
     "output_type": "execute_result"
    }
   ],
   "source": [
    "(34 + 6) / 10"
   ]
  },
  {
   "cell_type": "markdown",
   "metadata": {},
   "source": [
    "Notice that parantheses are important to distinguish the order of arithmatic operations. "
   ]
  },
  {
   "cell_type": "markdown",
   "metadata": {},
   "source": [
    "### Numpy"
   ]
  },
  {
   "cell_type": "markdown",
   "metadata": {},
   "source": [
    "Next, we will look at a very useful library for more advanced mathematical computations called `Numpy`. We can import any library in Python using the `import` keyword as shown below."
   ]
  },
  {
   "cell_type": "code",
   "execution_count": 4,
   "metadata": {},
   "outputs": [],
   "source": [
    "import numpy as np"
   ]
  },
  {
   "cell_type": "markdown",
   "metadata": {},
   "source": [
    "Once imported, any variables, keywords, functions, methods etc. from the library can be accessed using the `np.` prefix as you can see below."
   ]
  },
  {
   "cell_type": "code",
   "execution_count": 5,
   "metadata": {},
   "outputs": [
    {
     "name": "stdout",
     "output_type": "stream",
     "text": [
      "Pi = 3.141592653589793\n",
      "Sin(pi/2) = 1.0\n"
     ]
    }
   ],
   "source": [
    "print('Pi =', np.pi)\n",
    "print('Sin(pi/2) =', np.sin(np.pi / 2))"
   ]
  },
  {
   "cell_type": "markdown",
   "metadata": {},
   "source": [
    "`Numpy` is most useful because of arrays. Arrays are collections of numbers where one can perform operations on all of them at once or even access them one at a time. Two very useful ways to generate arrays are using the functions `linspace` and `arange`. `linspace` produces linearly spaced numbers given a *start*, *stop*, and the *number of points*, whereas `arange` produces linearly spaced numbers given the *start*, *stop*, and the *step* between individual points. Run the examples below to see this in action. **Note** that in `arange`, the last point, i.e. *stop* is not included."
   ]
  },
  {
   "cell_type": "code",
   "execution_count": 6,
   "metadata": {},
   "outputs": [
    {
     "name": "stdout",
     "output_type": "stream",
     "text": [
      "[0. 1. 2. 3. 4. 5.]\n"
     ]
    }
   ],
   "source": [
    "print(np.linspace(0, 5, 6))  # 0=start, 5=stop, 6=number of points"
   ]
  },
  {
   "cell_type": "code",
   "execution_count": 7,
   "metadata": {},
   "outputs": [
    {
     "name": "stdout",
     "output_type": "stream",
     "text": [
      "[0 1 2 3 4]\n"
     ]
    }
   ],
   "source": [
    "print(np.arange(0, 5, 1))  # 0=start, 5=stop (non inclusive), 1=step"
   ]
  },
  {
   "cell_type": "markdown",
   "metadata": {},
   "source": [
    "### Saving your work"
   ]
  },
  {
   "cell_type": "markdown",
   "metadata": {},
   "source": [
    "On Colab press the \"Copy to Drive\" button (near the upper left), which saves a copy of this notebook in your Google Drive.\n",
    "If you want to change the name of the file, you can click on the name in the upper left.\n",
    "If you don't use Google Drive, look under the File menu to see other options.\n",
    "Once you make a copy, any additional changes you make will be saved automatically, so now you can continue without worrying about losing your work."
   ]
  },
  {
   "cell_type": "markdown",
   "metadata": {},
   "source": [
    "### Variables: Numeric, Strings, Date/Times, Location"
   ]
  },
  {
   "cell_type": "markdown",
   "metadata": {},
   "source": [
    "A variable is essentially a name that refers to a value. The value of a variable can take many different forms. Some of the more commonly used types are numeric, strings, date/times, and locations. Let's explore these below."
   ]
  },
  {
   "cell_type": "markdown",
   "metadata": {},
   "source": [
    "**Numeric**"
   ]
  },
  {
   "cell_type": "code",
   "execution_count": 8,
   "metadata": {},
   "outputs": [
    {
     "name": "stdout",
     "output_type": "stream",
     "text": [
      "x = [0 1 2 3 4]\n",
      "e^x = [ 1.          2.71828183  7.3890561  20.08553692 54.59815003]\n"
     ]
    }
   ],
   "source": [
    "x = np.arange(0, 5, 1)\n",
    "y = np.exp(x)\n",
    "print('x =', x)\n",
    "print('e^x =', y)"
   ]
  },
  {
   "cell_type": "markdown",
   "metadata": {},
   "source": [
    "**Strings**"
   ]
  },
  {
   "cell_type": "code",
   "execution_count": 9,
   "metadata": {},
   "outputs": [
    {
     "name": "stdout",
     "output_type": "stream",
     "text": [
      "Democratic presidential candidates: ['Sanders', 'Biden', 'Warren', 'Buttigieg', 'Klobuchar', 'Bloomberg']\n"
     ]
    }
   ],
   "source": [
    "names = ['Sanders', 'Biden', 'Warren', 'Buttigieg', 'Klobuchar', 'Bloomberg']\n",
    "print('Democratic presidential candidates:', names)"
   ]
  },
  {
   "cell_type": "markdown",
   "metadata": {},
   "source": [
    "**Date/Times**"
   ]
  },
  {
   "cell_type": "markdown",
   "metadata": {},
   "source": [
    "Dates, times, timedeltas etc. are very useful and frequently used variable types. Although Python has a native support for datetime variable types which is included in the module `datetime`, we will use a different library called `pandas`. `pandas`, short for Python for Data Analysis, is extremely useful when it comes to working with large sets of data and datetimes variables are often encountered in large datasets, which `pandas` can help manipulate. Import `pandas` as shown below."
   ]
  },
  {
   "cell_type": "code",
   "execution_count": 10,
   "metadata": {},
   "outputs": [],
   "source": [
    "import pandas as pd"
   ]
  },
  {
   "cell_type": "markdown",
   "metadata": {},
   "source": [
    "`pandas` has a function called `Timestamp` that can convert certain formats of strings into datetime variables as shown below."
   ]
  },
  {
   "cell_type": "code",
   "execution_count": 11,
   "metadata": {},
   "outputs": [
    {
     "data": {
      "text/plain": [
       "Timestamp('2020-03-10 10:15:00')"
      ]
     },
     "execution_count": 11,
     "metadata": {},
     "output_type": "execute_result"
    }
   ],
   "source": [
    "pd.Timestamp('10:15:00')"
   ]
  },
  {
   "cell_type": "code",
   "execution_count": 12,
   "metadata": {},
   "outputs": [
    {
     "name": "stdout",
     "output_type": "stream",
     "text": [
      "1984-07-09 19:42:00\n"
     ]
    }
   ],
   "source": [
    "date_of_birth = pd.Timestamp('July 9, 1984, 7:42pm')\n",
    "print(date_of_birth)"
   ]
  },
  {
   "cell_type": "markdown",
   "metadata": {},
   "source": [
    "For a datetime variable, you can find the year, month, day, name of the day, name of the month etc as shown below."
   ]
  },
  {
   "cell_type": "code",
   "execution_count": 13,
   "metadata": {},
   "outputs": [
    {
     "name": "stdout",
     "output_type": "stream",
     "text": [
      "1984\n",
      "7\n",
      "9\n"
     ]
    }
   ],
   "source": [
    "print(date_of_birth.year)\n",
    "print(date_of_birth.month)\n",
    "print(date_of_birth.day)"
   ]
  },
  {
   "cell_type": "code",
   "execution_count": 14,
   "metadata": {},
   "outputs": [
    {
     "name": "stdout",
     "output_type": "stream",
     "text": [
      "Monday\n",
      "July\n"
     ]
    }
   ],
   "source": [
    "print(date_of_birth.day_name())\n",
    "print(date_of_birth.month_name())"
   ]
  },
  {
   "cell_type": "markdown",
   "metadata": {},
   "source": [
    "You can perform datetime operations such as finding the `Timedelta` using variables that are `Timestamp`. You can also obtain all the components of a `Timedelta` using `components`, as shown below."
   ]
  },
  {
   "cell_type": "code",
   "execution_count": 15,
   "metadata": {},
   "outputs": [
    {
     "name": "stdout",
     "output_type": "stream",
     "text": [
      "13027 days 18:58:01.584548\n"
     ]
    }
   ],
   "source": [
    "now = pd.Timestamp.now()\n",
    "age = now - date_of_birth\n",
    "print(age)"
   ]
  },
  {
   "cell_type": "code",
   "execution_count": 16,
   "metadata": {},
   "outputs": [
    {
     "data": {
      "text/plain": [
       "Components(days=13027, hours=18, minutes=58, seconds=1, milliseconds=584, microseconds=548, nanoseconds=0)"
      ]
     },
     "execution_count": 16,
     "metadata": {},
     "output_type": "execute_result"
    }
   ],
   "source": [
    "age.components"
   ]
  },
  {
   "cell_type": "markdown",
   "metadata": {},
   "source": [
    "**Location**"
   ]
  },
  {
   "cell_type": "markdown",
   "metadata": {},
   "source": [
    "We can store the latitute and longitude information of any location as a pair of numbers. Python again has libraries that can be used to convert these pairs of numbers into geographic information and for example let us place points on a map. We will look one such library called `geopandas` later on in the workshop. For now, we can assign more than one value to a variable in Python. This is called a tuple. "
   ]
  },
  {
   "cell_type": "code",
   "execution_count": 17,
   "metadata": {},
   "outputs": [
    {
     "name": "stdout",
     "output_type": "stream",
     "text": [
      "(42.3601, -71.0589)\n"
     ]
    }
   ],
   "source": [
    "lat = 42.3601\n",
    "lon = -71.0589\n",
    "boston = lat, lon\n",
    "print(boston)"
   ]
  },
  {
   "cell_type": "markdown",
   "metadata": {},
   "source": [
    "**Side Note: Lists**"
   ]
  },
  {
   "cell_type": "markdown",
   "metadata": {},
   "source": [
    "Python provides another handy way to store a sequence of elements, which is known as a list.\n",
    "To create a list, you put a sequence of elements in square brackets. A list is very useful in scenarios where the number of elements is changing or is unknown. A list can also be used to store elements of different types. We can add an element at the end of a list using the `append` method."
   ]
  },
  {
   "cell_type": "code",
   "execution_count": 18,
   "metadata": {},
   "outputs": [
    {
     "name": "stdout",
     "output_type": "stream",
     "text": [
      "[]\n"
     ]
    }
   ],
   "source": [
    "list1 = []  # creates an empty list\n",
    "print(list1)"
   ]
  },
  {
   "cell_type": "code",
   "execution_count": 19,
   "metadata": {},
   "outputs": [
    {
     "name": "stdout",
     "output_type": "stream",
     "text": [
      "[1, 2, 3, 'Hello']\n"
     ]
    }
   ],
   "source": [
    "list2 = [1, 2, 3, 'Hello']  # creates a list with provided elements\n",
    "print(list2)"
   ]
  },
  {
   "cell_type": "code",
   "execution_count": 20,
   "metadata": {},
   "outputs": [
    {
     "name": "stdout",
     "output_type": "stream",
     "text": [
      "[1, 2, 3, 'Hello', 'World']\n",
      "[1, 2, 3, 'Hello', 'World', 4]\n"
     ]
    }
   ],
   "source": [
    "list2.append('World')\n",
    "print(list2)\n",
    "\n",
    "list2.append(4)\n",
    "print(list2)"
   ]
  },
  {
   "cell_type": "markdown",
   "metadata": {},
   "source": [
    "Let's bring what we have looked at so far together with a couple of small exercises."
   ]
  },
  {
   "cell_type": "markdown",
   "metadata": {},
   "source": [
    "### Exercise 1"
   ]
  },
  {
   "cell_type": "markdown",
   "metadata": {},
   "source": [
    "**A.** Covert the two lists below to a `Timestamp`. \n",
    "\n",
    "*Hint:* This requires writing a `for` loop."
   ]
  },
  {
   "cell_type": "code",
   "execution_count": 21,
   "metadata": {},
   "outputs": [],
   "source": [
    "date_of_birth = ['June 14, 1946', 'Aug 4, 1961', 'July 6, 1946', \n",
    "                 'Aug 19, 1946', 'June 12, 1924', 'Feb 6, 1911', 'Oct 1, 1924']\n",
    "year = [2017, 2009, 2001, 1993, 1989, 1981, 1977]"
   ]
  },
  {
   "cell_type": "code",
   "execution_count": 22,
   "metadata": {},
   "outputs": [
    {
     "name": "stdout",
     "output_type": "stream",
     "text": [
      "[Timestamp('1946-06-14 00:00:00'), Timestamp('1961-08-04 00:00:00'), Timestamp('1946-07-06 00:00:00'), Timestamp('1946-08-19 00:00:00'), Timestamp('1924-06-12 00:00:00'), Timestamp('1911-02-06 00:00:00'), Timestamp('1924-10-01 00:00:00')]\n",
      "[Timestamp('2017-01-01 00:00:00'), Timestamp('2009-01-01 00:00:00'), Timestamp('2001-01-01 00:00:00'), Timestamp('1993-01-01 00:00:00'), Timestamp('1989-01-01 00:00:00'), Timestamp('1981-01-01 00:00:00'), Timestamp('1977-01-01 00:00:00')]\n"
     ]
    }
   ],
   "source": [
    "# Solution\n",
    "\n",
    "for i in range (len(date_of_birth)):\n",
    "    temp = pd.Timestamp(date_of_birth[i])\n",
    "    date_of_birth[i] = temp\n",
    "print(date_of_birth)\n",
    "\n",
    "for i in range (len(year)):\n",
    "    temp = pd.Timestamp(str(year[i]))\n",
    "    year[i] = temp  \n",
    "print(year)"
   ]
  },
  {
   "cell_type": "markdown",
   "metadata": {},
   "source": [
    "**B.** You perhaps guessed this already, but if not read on. The `date_of_birth` list contains dates of birth of the last seven US Presidents and the `year` list contains the year they took office. Now create a list called `age` and populate it with the age of the last seven US Presidents when they took office.\n",
    "\n",
    "*Hint:* You can use find the difference between the `Timestamp` to calculate the `Timedelta`. The `Timedelta` will be in days, so to approximate the age years divide the number of days by 365 and round the value to an integer."
   ]
  },
  {
   "cell_type": "code",
   "execution_count": 40,
   "metadata": {},
   "outputs": [
    {
     "name": "stdout",
     "output_type": "stream",
     "text": [
      "[Timedelta('25769 days 00:00:00'), Timedelta('17317 days 00:00:00'), Timedelta('19903 days 00:00:00'), Timedelta('16937 days 00:00:00'), Timedelta('23579 days 00:00:00'), Timedelta('25532 days 00:00:00'), Timedelta('19085 days 00:00:00')]\n"
     ]
    }
   ],
   "source": [
    "# Solution\n",
    "\n",
    "age = []\n",
    "for i in range(len(year)):\n",
    "    age.append(year[i] - date_of_birth[i])\n",
    "print(age)"
   ]
  },
  {
   "cell_type": "markdown",
   "metadata": {},
   "source": [
    "## Principles of effective data visualizations"
   ]
  },
  {
   "cell_type": "markdown",
   "metadata": {},
   "source": [
    "***1. Have graphical integrity***\n",
    "\n",
    "(Do not try to mislead using data visualizations)"
   ]
  },
  {
   "cell_type": "markdown",
   "metadata": {},
   "source": [
    "***2. Keep it simple***\n",
    "\n",
    "(Avoid chart junk, maximize data-ink ratio)"
   ]
  },
  {
   "cell_type": "markdown",
   "metadata": {},
   "source": [
    "***3. Adapt to your audience***\n",
    "\n",
    "(Know your audience or make it neutral)"
   ]
  },
  {
   "cell_type": "markdown",
   "metadata": {},
   "source": [
    "***4. Use the right display***\n",
    "\n",
    "(Appropriate plot types)"
   ]
  },
  {
   "cell_type": "markdown",
   "metadata": {},
   "source": [
    "***5. Use color strategically***\n",
    "\n",
    "(Do not overuse color, consider colorblindness)"
   ]
  },
  {
   "cell_type": "code",
   "execution_count": null,
   "metadata": {},
   "outputs": [],
   "source": []
  }
 ],
 "metadata": {
  "kernelspec": {
   "display_name": "Python 3",
   "language": "python",
   "name": "python3"
  },
  "language_info": {
   "codemirror_mode": {
    "name": "ipython",
    "version": 3
   },
   "file_extension": ".py",
   "mimetype": "text/x-python",
   "name": "python",
   "nbconvert_exporter": "python",
   "pygments_lexer": "ipython3",
   "version": "3.6.2"
  }
 },
 "nbformat": 4,
 "nbformat_minor": 2
}
