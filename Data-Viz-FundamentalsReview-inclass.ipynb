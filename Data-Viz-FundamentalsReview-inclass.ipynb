{
 "cells": [
  {
   "cell_type": "markdown",
   "metadata": {
    "slideshow": {
     "slide_type": "skip"
    }
   },
   "source": [
    "[![Open In Colab](https://colab.research.google.com/assets/colab-badge.svg)](https://colab.research.google.com/github/nishantsule/Data-Visualization-Workshop/blob/master/Data-Viz-FundamentalsReview.ipynb)"
   ]
  },
  {
   "cell_type": "markdown",
   "metadata": {
    "slideshow": {
     "slide_type": "slide"
    }
   },
   "source": [
    "# Fundamentals of Data Visualization using Python"
   ]
  },
  {
   "cell_type": "markdown",
   "metadata": {
    "slideshow": {
     "slide_type": "slide"
    }
   },
   "source": [
    "## A brief introduction to dealing with data in Python\n",
    "\n",
    "First off, let's review some basics of Python and some useful libraries that we will use to work with the data and for creating plots.\n",
    "\n",
    "If you have programmed before in Python, this initial parts maybe slow. If you haven't used Python before, this might be a bit challenging but hopefully should be useful to get started."
   ]
  },
  {
   "cell_type": "markdown",
   "metadata": {
    "slideshow": {
     "slide_type": "subslide"
    }
   },
   "source": [
    "You are running this notebook on [Colab](colab.research.google.com). You will notice buttons in the top left that say \"+ Code\" and \"+ Text\". The \"+ Code\" adds a code cell and the \"+ Text\" a text cell. If you want to try them out, select this cell by clicking on it, then press the \"+ Text\". A new cell should appear below this one.\n",
    "\n",
    "You can type in the cell and use the buttons to format it, or you can mark up the text using [Markdown](https://www.markdownguide.org/basic-syntax/). When you are done, hold down Shift and press Enter, which will format the text you just typed and then move to the next cell. (Shift + Enter will also be useful to run code cells as we will see down below)."
   ]
  },
  {
   "cell_type": "markdown",
   "metadata": {
    "slideshow": {
     "slide_type": "subslide"
    }
   },
   "source": [
    "The first thing to try out with Python is that it can be used as a scripting language. With numbers in particular, it can be used simply as a calculator. Create a code cell below and try out some simple arithmatic operations. The operators for basic arithmatic are `+`, `-`, `*`, and `/`, representing addition, subtraction, multiplication, and division, respectively. To run a code cell you can click on the \"Play\" button on the left of the cell or simply hold Shift and press Enter. "
   ]
  },
  {
   "cell_type": "code",
   "execution_count": null,
   "metadata": {
    "slideshow": {
     "slide_type": "subslide"
    }
   },
   "outputs": [],
   "source": []
  },
  {
   "cell_type": "code",
   "execution_count": null,
   "metadata": {
    "slideshow": {
     "slide_type": "subslide"
    }
   },
   "outputs": [],
   "source": []
  },
  {
   "cell_type": "markdown",
   "metadata": {
    "slideshow": {
     "slide_type": "subslide"
    }
   },
   "source": [
    "Notice that parantheses are important to distinguish the order of arithmatic operations. "
   ]
  },
  {
   "cell_type": "markdown",
   "metadata": {
    "slideshow": {
     "slide_type": "slide"
    }
   },
   "source": [
    "### Numpy"
   ]
  },
  {
   "cell_type": "markdown",
   "metadata": {
    "slideshow": {
     "slide_type": "subslide"
    }
   },
   "source": [
    "Next, we will look at a very useful library for more advanced mathematical computations called `Numpy`. We can import any library in Python using the `import` keyword as shown below."
   ]
  },
  {
   "cell_type": "code",
   "execution_count": null,
   "metadata": {
    "slideshow": {
     "slide_type": "fragment"
    }
   },
   "outputs": [],
   "source": []
  },
  {
   "cell_type": "markdown",
   "metadata": {
    "slideshow": {
     "slide_type": "subslide"
    }
   },
   "source": [
    "Once imported, any variables, keywords, functions, methods etc. from the library can be accessed using the `np.` prefix as you can see below."
   ]
  },
  {
   "cell_type": "code",
   "execution_count": null,
   "metadata": {
    "slideshow": {
     "slide_type": "fragment"
    }
   },
   "outputs": [],
   "source": []
  },
  {
   "cell_type": "markdown",
   "metadata": {
    "slideshow": {
     "slide_type": "subslide"
    }
   },
   "source": [
    "`Numpy` is most useful because of arrays. Arrays are collections of numbers where one can perform operations on all of them at once or even access them one at a time. Two very useful ways to generate arrays are using the functions `linspace` and `arange`. `linspace` produces linearly spaced numbers given a *start*, *stop*, and the *number of points*, whereas `arange` produces linearly spaced numbers given the *start*, *stop*, and the *step* between individual points. Run the examples below to see this in action. **Note** that in `arange`, the last point, i.e. *stop* is not included."
   ]
  },
  {
   "cell_type": "code",
   "execution_count": null,
   "metadata": {
    "slideshow": {
     "slide_type": "fragment"
    }
   },
   "outputs": [],
   "source": []
  },
  {
   "cell_type": "code",
   "execution_count": null,
   "metadata": {
    "slideshow": {
     "slide_type": "fragment"
    }
   },
   "outputs": [],
   "source": []
  },
  {
   "cell_type": "markdown",
   "metadata": {
    "slideshow": {
     "slide_type": "slide"
    }
   },
   "source": [
    "### Saving your work"
   ]
  },
  {
   "cell_type": "markdown",
   "metadata": {
    "slideshow": {
     "slide_type": "subslide"
    }
   },
   "source": [
    "On Colab press the \"Copy to Drive\" button (near the upper left), which saves a copy of this notebook in your Google Drive.\n",
    "If you want to change the name of the file, you can click on the name in the upper left.\n",
    "If you don't use Google Drive, look under the File menu to see other options.\n",
    "Once you make a copy, any additional changes you make will be saved automatically, so now you can continue without worrying about losing your work."
   ]
  },
  {
   "cell_type": "markdown",
   "metadata": {
    "slideshow": {
     "slide_type": "slide"
    }
   },
   "source": [
    "### Variables: Numeric, Strings, Date/Times, Location"
   ]
  },
  {
   "cell_type": "markdown",
   "metadata": {
    "slideshow": {
     "slide_type": "subslide"
    }
   },
   "source": [
    "A variable is essentially a name that refers to a value. The value of a variable can take many different forms. Some of the more commonly used types are numeric, strings, date/times, and locations. Let's explore these below."
   ]
  },
  {
   "cell_type": "markdown",
   "metadata": {
    "slideshow": {
     "slide_type": "subslide"
    }
   },
   "source": [
    "**Numeric**"
   ]
  },
  {
   "cell_type": "code",
   "execution_count": null,
   "metadata": {
    "slideshow": {
     "slide_type": "fragment"
    }
   },
   "outputs": [],
   "source": []
  },
  {
   "cell_type": "markdown",
   "metadata": {
    "slideshow": {
     "slide_type": "subslide"
    }
   },
   "source": [
    "**Strings**"
   ]
  },
  {
   "cell_type": "code",
   "execution_count": null,
   "metadata": {
    "slideshow": {
     "slide_type": "fragment"
    }
   },
   "outputs": [],
   "source": []
  },
  {
   "cell_type": "markdown",
   "metadata": {
    "slideshow": {
     "slide_type": "subslide"
    }
   },
   "source": [
    "**Date/Times**"
   ]
  },
  {
   "cell_type": "markdown",
   "metadata": {
    "slideshow": {
     "slide_type": "subslide"
    }
   },
   "source": [
    "Dates, times, timedeltas etc. are very useful and frequently used variable types. Although Python has a native support for datetime variable types which is included in the module `datetime`, we will use a different library called `pandas`. `pandas`, short for Python for Data Analysis, is extremely useful when it comes to working with large sets of data and datetimes variables are often encountered in large datasets, which `pandas` can help manipulate. Import `pandas` as shown below."
   ]
  },
  {
   "cell_type": "code",
   "execution_count": null,
   "metadata": {
    "slideshow": {
     "slide_type": "fragment"
    }
   },
   "outputs": [],
   "source": []
  },
  {
   "cell_type": "markdown",
   "metadata": {
    "slideshow": {
     "slide_type": "subslide"
    }
   },
   "source": [
    "`pandas` has a function called `Timestamp` that can convert certain formats of strings into datetime variables as shown below."
   ]
  },
  {
   "cell_type": "code",
   "execution_count": null,
   "metadata": {
    "slideshow": {
     "slide_type": "fragment"
    }
   },
   "outputs": [],
   "source": []
  },
  {
   "cell_type": "code",
   "execution_count": null,
   "metadata": {
    "slideshow": {
     "slide_type": "fragment"
    }
   },
   "outputs": [],
   "source": []
  },
  {
   "cell_type": "markdown",
   "metadata": {
    "slideshow": {
     "slide_type": "subslide"
    }
   },
   "source": [
    "For a datetime variable, you can find the year, month, day, name of the day, name of the month etc as shown below."
   ]
  },
  {
   "cell_type": "code",
   "execution_count": null,
   "metadata": {
    "slideshow": {
     "slide_type": "fragment"
    }
   },
   "outputs": [],
   "source": []
  },
  {
   "cell_type": "code",
   "execution_count": null,
   "metadata": {
    "slideshow": {
     "slide_type": "fragment"
    }
   },
   "outputs": [],
   "source": []
  },
  {
   "cell_type": "markdown",
   "metadata": {
    "slideshow": {
     "slide_type": "subslide"
    }
   },
   "source": [
    "You can perform datetime operations such as finding the `Timedelta` using variables that are `Timestamp`. You can also obtain all the components of a `Timedelta` using `components`, as shown below."
   ]
  },
  {
   "cell_type": "code",
   "execution_count": null,
   "metadata": {
    "slideshow": {
     "slide_type": "fragment"
    }
   },
   "outputs": [],
   "source": []
  },
  {
   "cell_type": "code",
   "execution_count": null,
   "metadata": {
    "slideshow": {
     "slide_type": "fragment"
    }
   },
   "outputs": [],
   "source": []
  },
  {
   "cell_type": "markdown",
   "metadata": {
    "slideshow": {
     "slide_type": "subslide"
    }
   },
   "source": [
    "**Location**"
   ]
  },
  {
   "cell_type": "markdown",
   "metadata": {
    "slideshow": {
     "slide_type": "subslide"
    }
   },
   "source": [
    "We can store the latitute and longitude information of any location as a pair of numbers. Python again has libraries that can be used to convert these pairs of numbers into geographic information and for example let us place points on a map. One such library is called `geopandas`. We won't have time to look at this library so for now notice that we can assign more than one value to a variable in Python. This is called a tuple. "
   ]
  },
  {
   "cell_type": "code",
   "execution_count": null,
   "metadata": {
    "slideshow": {
     "slide_type": "fragment"
    }
   },
   "outputs": [],
   "source": []
  },
  {
   "cell_type": "markdown",
   "metadata": {
    "slideshow": {
     "slide_type": "subslide"
    }
   },
   "source": [
    "**Side Note: Lists**"
   ]
  },
  {
   "cell_type": "markdown",
   "metadata": {
    "slideshow": {
     "slide_type": "subslide"
    }
   },
   "source": [
    "Python provides another handy way to store a sequence of elements, which is known as a list.\n",
    "To create a list, you put a sequence of elements in square brackets. A list is very useful in scenarios where the number of elements is changing or is unknown. A list can also be used to store elements of different types. We can add an element at the end of a list using the `append` method."
   ]
  },
  {
   "cell_type": "code",
   "execution_count": null,
   "metadata": {
    "slideshow": {
     "slide_type": "fragment"
    }
   },
   "outputs": [],
   "source": []
  },
  {
   "cell_type": "code",
   "execution_count": null,
   "metadata": {
    "slideshow": {
     "slide_type": "fragment"
    }
   },
   "outputs": [],
   "source": []
  },
  {
   "cell_type": "code",
   "execution_count": null,
   "metadata": {
    "slideshow": {
     "slide_type": "fragment"
    }
   },
   "outputs": [],
   "source": []
  },
  {
   "cell_type": "markdown",
   "metadata": {
    "slideshow": {
     "slide_type": "subslide"
    }
   },
   "source": [
    "### Exercise 1\n",
    "\n",
    "Let's bring what we have looked at so far together with a couple of small exercises.\n",
    "\n",
    "**A.** Convert the two lists below to a `Timestamp`. \n",
    "\n",
    "*Hint:* This requires writing a `for` loop."
   ]
  },
  {
   "cell_type": "code",
   "execution_count": null,
   "metadata": {
    "slideshow": {
     "slide_type": "fragment"
    }
   },
   "outputs": [],
   "source": [
    "date_of_birth = ['June 14, 1946', 'Aug 4, 1961', 'July 6, 1946', \n",
    "                 'Aug 19, 1946', 'June 12, 1924', 'Feb 6, 1911', 'Oct 1, 1924']\n",
    "year = [2017, 2009, 2001, 1993, 1989, 1981, 1977]"
   ]
  },
  {
   "cell_type": "code",
   "execution_count": null,
   "metadata": {
    "slideshow": {
     "slide_type": "fragment"
    }
   },
   "outputs": [],
   "source": [
    "# Solution\n"
   ]
  },
  {
   "cell_type": "markdown",
   "metadata": {
    "slideshow": {
     "slide_type": "subslide"
    }
   },
   "source": [
    "**B.** You perhaps guessed this already, but if not read on. The `date_of_birth` list contains dates of birth of the last seven US Presidents and the `year` list contains the year they took office. Now create a list called `age` and populate it with the age in years of the last seven US Presidents when they took office.\n",
    "\n",
    "*Hint:* You can use find the difference between the `Timestamp` to calculate the `Timedelta`. The `Timedelta` will be in days, so to approximate the age years divide the number of days by 365 and round the value to an integer."
   ]
  },
  {
   "cell_type": "code",
   "execution_count": null,
   "metadata": {
    "slideshow": {
     "slide_type": "fragment"
    }
   },
   "outputs": [],
   "source": [
    "# Solution\n"
   ]
  },
  {
   "cell_type": "markdown",
   "metadata": {
    "slideshow": {
     "slide_type": "slide"
    }
   },
   "source": [
    "## Principles of effective data visualizations"
   ]
  },
  {
   "cell_type": "markdown",
   "metadata": {
    "slideshow": {
     "slide_type": "slide"
    }
   },
   "source": [
    "***1. Have graphical integrity***\n",
    "\n",
    "(Do not try to mislead using data visualizations)"
   ]
  },
  {
   "cell_type": "markdown",
   "metadata": {
    "slideshow": {
     "slide_type": "subslide"
    }
   },
   "source": [
    "![img](https://raw.githubusercontent.com/nishantsule/Data-Visualization-Workshop/master/Images/Bush-cuts.png)"
   ]
  },
  {
   "cell_type": "markdown",
   "metadata": {
    "slideshow": {
     "slide_type": "subslide"
    }
   },
   "source": [
    "![img](https://raw.githubusercontent.com/nishantsule/Data-Visualization-Workshop/master/Images/Fox-chart-corrected.png)"
   ]
  },
  {
   "cell_type": "markdown",
   "metadata": {
    "slideshow": {
     "slide_type": "subslide"
    }
   },
   "source": [
    "![img](https://raw.githubusercontent.com/nishantsule/Data-Visualization-Workshop/master/Images/unemployment_fox.png)"
   ]
  },
  {
   "cell_type": "markdown",
   "metadata": {
    "slideshow": {
     "slide_type": "subslide"
    }
   },
   "source": [
    "![img](https://raw.githubusercontent.com/nishantsule/Data-Visualization-Workshop/master/Images/unemployment_fox_corrected.png)"
   ]
  },
  {
   "cell_type": "markdown",
   "metadata": {
    "slideshow": {
     "slide_type": "subslide"
    }
   },
   "source": [
    "![img](https://raw.githubusercontent.com/nishantsule/Data-Visualization-Workshop/master/Images/dailymail_warming.jpg)"
   ]
  },
  {
   "cell_type": "markdown",
   "metadata": {
    "slideshow": {
     "slide_type": "subslide"
    }
   },
   "source": [
    "![img](https://raw.githubusercontent.com/nishantsule/Data-Visualization-Workshop/master/Images/dailymail_warming_corrected1.jpg)"
   ]
  },
  {
   "cell_type": "markdown",
   "metadata": {
    "slideshow": {
     "slide_type": "subslide"
    }
   },
   "source": [
    "![img](https://raw.githubusercontent.com/nishantsule/Data-Visualization-Workshop/master/Images/dailymail_warming_corrected2.jpg)"
   ]
  },
  {
   "cell_type": "markdown",
   "metadata": {
    "slideshow": {
     "slide_type": "slide"
    }
   },
   "source": [
    "***2. Keep it simple***\n",
    "\n",
    "(Avoid chart junk, maximize data-ink ratio)"
   ]
  },
  {
   "cell_type": "markdown",
   "metadata": {
    "slideshow": {
     "slide_type": "subslide"
    }
   },
   "source": [
    "![img](https://raw.githubusercontent.com/nishantsule/Data-Visualization-Workshop/master/Images/complexbar.png)"
   ]
  },
  {
   "cell_type": "markdown",
   "metadata": {
    "slideshow": {
     "slide_type": "subslide"
    }
   },
   "source": [
    "![img](https://raw.githubusercontent.com/nishantsule/Data-Visualization-Workshop/master/Images/complexbar_fixed.png)"
   ]
  },
  {
   "cell_type": "markdown",
   "metadata": {
    "slideshow": {
     "slide_type": "subslide"
    }
   },
   "source": [
    "![img](https://raw.githubusercontent.com/nishantsule/Data-Visualization-Workshop/master/Images/chartjunk1.png)"
   ]
  },
  {
   "cell_type": "markdown",
   "metadata": {
    "slideshow": {
     "slide_type": "subslide"
    }
   },
   "source": [
    "![img](https://raw.githubusercontent.com/nishantsule/Data-Visualization-Workshop/master/Images/chartjunk2.png)"
   ]
  },
  {
   "cell_type": "markdown",
   "metadata": {
    "slideshow": {
     "slide_type": "subslide"
    }
   },
   "source": [
    "![img](https://raw.githubusercontent.com/nishantsule/Data-Visualization-Workshop/master/Images/chartjunk3.png)"
   ]
  },
  {
   "cell_type": "markdown",
   "metadata": {
    "slideshow": {
     "slide_type": "subslide"
    }
   },
   "source": [
    "![img](https://raw.githubusercontent.com/nishantsule/Data-Visualization-Workshop/master/Images/chartjunk4.png)"
   ]
  },
  {
   "cell_type": "markdown",
   "metadata": {
    "slideshow": {
     "slide_type": "subslide"
    }
   },
   "source": [
    "![img](https://raw.githubusercontent.com/nishantsule/Data-Visualization-Workshop/master/Images/chartjunk5.png)"
   ]
  },
  {
   "cell_type": "markdown",
   "metadata": {
    "slideshow": {
     "slide_type": "slide"
    }
   },
   "source": [
    "***3. Adapt to your audience***\n",
    "\n",
    "(Know your audience or make it neutral)"
   ]
  },
  {
   "cell_type": "markdown",
   "metadata": {
    "slideshow": {
     "slide_type": "subslide"
    }
   },
   "source": [
    "![img](https://raw.githubusercontent.com/nishantsule/Data-Visualization-Workshop/master/Images/Same-charts-different-message.png)"
   ]
  },
  {
   "cell_type": "markdown",
   "metadata": {
    "slideshow": {
     "slide_type": "slide"
    }
   },
   "source": [
    "***4. Use the right display***\n",
    "\n",
    "(Appropriate plot types)"
   ]
  },
  {
   "cell_type": "markdown",
   "metadata": {
    "slideshow": {
     "slide_type": "subslide"
    }
   },
   "source": [
    "![img](https://raw.githubusercontent.com/nishantsule/Data-Visualization-Workshop/master/Images/wrongchart.png)"
   ]
  },
  {
   "cell_type": "markdown",
   "metadata": {
    "slideshow": {
     "slide_type": "slide"
    }
   },
   "source": [
    "***5. Use color strategically***\n",
    "\n",
    "(Do not overuse color, consider colorblindness)"
   ]
  },
  {
   "cell_type": "markdown",
   "metadata": {
    "slideshow": {
     "slide_type": "subslide"
    }
   },
   "source": [
    "![img](https://raw.githubusercontent.com/nishantsule/Data-Visualization-Workshop/master/Images/Colorblindness.png)"
   ]
  },
  {
   "cell_type": "markdown",
   "metadata": {
    "slideshow": {
     "slide_type": "slide"
    }
   },
   "source": [
    "# Using `Matplotlib` for data visualization"
   ]
  },
  {
   "cell_type": "markdown",
   "metadata": {
    "slideshow": {
     "slide_type": "subslide"
    }
   },
   "source": [
    "Let's try to apply the \"Principles\" from above in practice and visualize the data from Excersice 1. The library we'll use for plotting is `Matplotlib`; more specifically, we'll use a part of it called `Pyplot`, which we'll import with the nickname `plt`."
   ]
  },
  {
   "cell_type": "code",
   "execution_count": null,
   "metadata": {
    "slideshow": {
     "slide_type": "fragment"
    }
   },
   "outputs": [],
   "source": []
  },
  {
   "cell_type": "markdown",
   "metadata": {
    "slideshow": {
     "slide_type": "subslide"
    }
   },
   "source": [
    "`Pyplot` provides a function called `plot` that makes a line plot. It takes two sequences as arguments, the x values and the y values. The sequences can be tuples, lists, or arrays."
   ]
  },
  {
   "cell_type": "markdown",
   "metadata": {
    "slideshow": {
     "slide_type": "subslide"
    }
   },
   "source": [
    "Let's just use the `plot` function to display the ages of US Presidents when they took office. Below is a list of the names of the Presidents and the ages are already in our list variable called `age`. "
   ]
  },
  {
   "cell_type": "code",
   "execution_count": null,
   "metadata": {
    "slideshow": {
     "slide_type": "fragment"
    }
   },
   "outputs": [],
   "source": [
    "names = ['Donald Trump', 'Barack Obama', 'George W Bush', \n",
    "         'Bill Clinton', 'George H W Bush', 'Ronald Reagan', 'Jimmy Carter']"
   ]
  },
  {
   "cell_type": "code",
   "execution_count": null,
   "metadata": {
    "slideshow": {
     "slide_type": "fragment"
    }
   },
   "outputs": [],
   "source": []
  },
  {
   "cell_type": "markdown",
   "metadata": {
    "slideshow": {
     "slide_type": "subslide"
    }
   },
   "source": [
    "Clearly, we could do better! What changes could be make to make this a better visualization?"
   ]
  },
  {
   "cell_type": "markdown",
   "metadata": {
    "slideshow": {
     "slide_type": "fragment"
    }
   },
   "source": [
    "1. Make a bar plot\n",
    "2. Rotate the axis tick labels\n",
    "3. Add axis labels"
   ]
  },
  {
   "cell_type": "markdown",
   "metadata": {
    "slideshow": {
     "slide_type": "subslide"
    }
   },
   "source": [
    "Bar plots are more appropriate for categorical data like the one we want to visualize. To make a bar plot, we can use the `bar` function, which works very much like the plot function. Now, we could either rotate the x axis tick labels or simply rotate the entire bar plot so that instead of vertical bars, we have horizontal bars. To generate a horizontal bar plot, use the function `barh`. We can add axis labels by calling the `xlabel` and `ylabel` functions from `pyplot`. "
   ]
  },
  {
   "cell_type": "code",
   "execution_count": null,
   "metadata": {
    "slideshow": {
     "slide_type": "subslide"
    }
   },
   "outputs": [],
   "source": []
  },
  {
   "cell_type": "markdown",
   "metadata": {
    "slideshow": {
     "slide_type": "subslide"
    }
   },
   "source": [
    "Now, let's try to maximize the data ink to total ink ratio! We could get rid of the box and tick marks and place white grid lines for better readability. The `box` function takes Boolean keywords to turn the box on or off. `tick_params` is a function that provides a lot of functionality to tweak the axes tick parameters. At this point it will be instructive to take a look at the [documentation](https://matplotlib.org/3.1.3/api/_as_gen/matplotlib.pyplot.tick_params.html) and try to understand how to use the function. Finally, the `grid` function can be used to generate the white grid lines. \n",
    "Also, do we really need a y label? It is more or less obvious that the y axis displays names. So, we could remove the y label as well."
   ]
  },
  {
   "cell_type": "code",
   "execution_count": null,
   "metadata": {
    "slideshow": {
     "slide_type": "subslide"
    }
   },
   "outputs": [],
   "source": []
  },
  {
   "cell_type": "markdown",
   "metadata": {
    "slideshow": {
     "slide_type": "subslide"
    }
   },
   "source": [
    "What else can we do to make this better?\n",
    "We know there are two types of US Presidents (Democrats and Republicans), right? Could we use color to indicate that? Below is a list of colors coressponding to the color of that President's party. We can use the keyword `color` in the `barh` function and provide this list to color the bars appropriately. "
   ]
  },
  {
   "cell_type": "code",
   "execution_count": null,
   "metadata": {
    "slideshow": {
     "slide_type": "fragment"
    }
   },
   "outputs": [],
   "source": [
    "party_color = ['red', 'blue', 'red', 'blue', 'red', 'red', 'blue']"
   ]
  },
  {
   "cell_type": "code",
   "execution_count": null,
   "metadata": {
    "slideshow": {
     "slide_type": "subslide"
    }
   },
   "outputs": [],
   "source": []
  },
  {
   "cell_type": "markdown",
   "metadata": {
    "slideshow": {
     "slide_type": "subslide"
    }
   },
   "source": [
    "The \"red\" and \"blue\" colors in the plot above are quite over-saturated. `Matplotlib` recognizes a large number of different colors as you might find in [this page](https://matplotlib.org/tutorials/colors/colors.html). One option to keep the color names human readable is to use the colors specified in [the xkcd color survey](https://xkcd.com/color/rgb/). The way to specify these colors is to prefix the color name by \"xkcd:\" (e.g., 'xkcd:sky blue') in the string used to specify the color argument.\n",
    "Let's modify the `party_color` list such that the \"red\" string is now \"xkcd:light red\" and the \"blue\" string is \"xkcd:cerulean\" and re-plot the figure."
   ]
  },
  {
   "cell_type": "code",
   "execution_count": null,
   "metadata": {
    "slideshow": {
     "slide_type": "fragment"
    }
   },
   "outputs": [],
   "source": [
    "for i in range(len(party_color)):\n",
    "    if party_color[i] == 'red':\n",
    "        party_color[i] = 'xkcd:light red'\n",
    "    elif party_color[i] == 'blue':\n",
    "        party_color[i] = 'xkcd:cerulean'"
   ]
  },
  {
   "cell_type": "code",
   "execution_count": null,
   "metadata": {
    "slideshow": {
     "slide_type": "subslide"
    }
   },
   "outputs": [],
   "source": []
  },
  {
   "cell_type": "markdown",
   "metadata": {
    "slideshow": {
     "slide_type": "subslide"
    }
   },
   "source": [
    "What is wrong with this plot?"
   ]
  },
  {
   "cell_type": "markdown",
   "metadata": {
    "slideshow": {
     "slide_type": "fragment"
    }
   },
   "source": [
    "We don't have a legend to indicate what the colors mean! \n",
    "Creating a legend for this plot is a little tricky, but let's soldier through."
   ]
  },
  {
   "cell_type": "markdown",
   "metadata": {
    "slideshow": {
     "slide_type": "subslide"
    }
   },
   "source": [
    "We first need to create rectangular patches of the same two colors as the bars. We can import the `patches` part of `matplotlib` in order to do that. `patches` has a function called `Patch` that we can use to create the rectangular patches we want including assigning them a label for display. Then all that's left is to call the `legend` function and provide the handles to these patches and specify where to place the legend box. While we are at it, let's also invert the y axis so that the most recent President is at the top and add a title."
   ]
  },
  {
   "cell_type": "code",
   "execution_count": null,
   "metadata": {
    "slideshow": {
     "slide_type": "fragment"
    }
   },
   "outputs": [],
   "source": [
    "import matplotlib.patches as mpatches\n",
    "\n",
    "red_patch = mpatches.Patch(color='xkcd:light red', label='Republican')\n",
    "blue_patch = mpatches.Patch(color='xkcd:cerulean', label='Democratic')"
   ]
  },
  {
   "cell_type": "code",
   "execution_count": null,
   "metadata": {
    "slideshow": {
     "slide_type": "subslide"
    }
   },
   "outputs": [],
   "source": []
  },
  {
   "cell_type": "markdown",
   "metadata": {
    "slideshow": {
     "slide_type": "slide"
    }
   },
   "source": [
    "### Exploring relationships\n",
    "\n",
    "Let's explore using the `plot` function some more, this time to explore the relationship between two variables. A common way to visualize relationships is using a \"scatter plot\". Scatter plots are common and readily understood, but they are surprisingly hard to get right."
   ]
  },
  {
   "cell_type": "markdown",
   "metadata": {
    "slideshow": {
     "slide_type": "subslide"
    }
   },
   "source": [
    "Let's look at the relationship between height and weight. we will use data from the Behavioral Risk Factor Surveillance Survey, or BRFSS, which is run by the Centers for Disease Control. The survey includes more than 400,000 respondents, but to keep things manageable, we'll use a random subsample of 100,000. We will again make use of `pandas` for the data handling. You may find code below that is unfamiliar, but we will try to explain each step as we go along."
   ]
  },
  {
   "cell_type": "markdown",
   "metadata": {
    "slideshow": {
     "slide_type": "subslide"
    }
   },
   "source": [
    "The code below let's you download data from the internet by providing a url. "
   ]
  },
  {
   "cell_type": "code",
   "execution_count": null,
   "metadata": {
    "slideshow": {
     "slide_type": "fragment"
    }
   },
   "outputs": [],
   "source": [
    "import os\n",
    "\n",
    "if not os.path.exists('brfss.hdf5'):\n",
    "    !wget https://github.com/nishantsule/Data-Visualization-Workshop/raw/master/Data/brfss.hdf5"
   ]
  },
  {
   "cell_type": "markdown",
   "metadata": {
    "slideshow": {
     "slide_type": "subslide"
    }
   },
   "source": [
    "`pandas` can read data in most common formats, including CSV, Excel, and the format the NSFG data is in, HDF5. You can read about HDF [here](https://en.wikipedia.org/wiki/Hierarchical_Data_Format). To read files in the hdf format, we can use the function called `read_hdf`. There are coressponding functions called `read_csv`, `read_excel` to read from CSV and excel files, respectively. When we call any of these read functions, the result is a `DataFrame`, which is the primary type `Pandas` uses to store data. To display the first few rows of information in the dataframe, use the method `head`."
   ]
  },
  {
   "cell_type": "code",
   "execution_count": null,
   "metadata": {
    "slideshow": {
     "slide_type": "subslide"
    }
   },
   "outputs": [],
   "source": [
    "brfss = pd.read_hdf('brfss.hdf5', 'brfss')\n",
    "brfss.head()"
   ]
  },
  {
   "cell_type": "markdown",
   "metadata": {
    "slideshow": {
     "slide_type": "subslide"
    }
   },
   "source": [
    "First let's extract the columns for height in centimeters and weight in kilograms"
   ]
  },
  {
   "cell_type": "code",
   "execution_count": null,
   "metadata": {
    "slideshow": {
     "slide_type": "fragment"
    }
   },
   "outputs": [],
   "source": []
  },
  {
   "cell_type": "markdown",
   "metadata": {
    "slideshow": {
     "slide_type": "subslide"
    }
   },
   "source": [
    "To make a scatter plot, we can simply use the `plot` function but specify the `marker` to be a circle and the `linestyle` to be empty."
   ]
  },
  {
   "cell_type": "code",
   "execution_count": null,
   "metadata": {
    "slideshow": {
     "slide_type": "subslide"
    }
   },
   "outputs": [],
   "source": []
  },
  {
   "cell_type": "markdown",
   "metadata": {
    "slideshow": {
     "slide_type": "subslide"
    }
   },
   "source": [
    "You might notice that it seems in general taller people are heavier, but there are a few things about this scatter plot that make it harder to interpret. We can do better.\n",
    "\n",
    "Most importantly, it is \"overplotted\", which means that there are data points piled on top of each other so you can't tell where there are a lot of points and where there is just one. When that happens, the results can be really misleading.\n",
    "One way to improve the plot is to use transparency, which we can do with the keyword argument `alpha`. The lower the value of alpha, the more transparent each data point is."
   ]
  },
  {
   "cell_type": "code",
   "execution_count": null,
   "metadata": {
    "slideshow": {
     "slide_type": "subslide"
    }
   },
   "outputs": [],
   "source": []
  },
  {
   "cell_type": "markdown",
   "metadata": {
    "slideshow": {
     "slide_type": "subslide"
    }
   },
   "source": [
    "Although this is better, there are so many data points, the scatter plot is still overplotted. We can improve it by making the markers smaller using the `markersize` keyword."
   ]
  },
  {
   "cell_type": "code",
   "execution_count": null,
   "metadata": {
    "slideshow": {
     "slide_type": "fragment"
    }
   },
   "outputs": [],
   "source": []
  },
  {
   "cell_type": "markdown",
   "metadata": {
    "slideshow": {
     "slide_type": "subslide"
    }
   },
   "source": [
    "Again, this is better, but now we can see that the points fall in discrete columns. That's because most heights were reported in inches and converted to centimeters and rounded.\n",
    "\n",
    "We can break up the columns by adding some random noise to the values. You might argue that we are manipulating the data in a way this is disingenuous. However, in effect, we are simply filling in the values that got rounded off. By making sure that the mean value of the random noise we add is zero, we ensure that it does not quantitatively affect the data but makes a significant different to the visuals. Adding random noise like this is called \"jittering\"."
   ]
  },
  {
   "cell_type": "markdown",
   "metadata": {
    "slideshow": {
     "slide_type": "subslide"
    }
   },
   "source": [
    "In this example, we can add noise with mean 0 and standard deviation 2 cm. To add the jitter we will use the `random` class from `numpy` and use the function called `normal`. This will generate normally distributed random noise with the given mean and standard deviation."
   ]
  },
  {
   "cell_type": "code",
   "execution_count": null,
   "metadata": {
    "slideshow": {
     "slide_type": "fragment"
    }
   },
   "outputs": [],
   "source": []
  },
  {
   "cell_type": "markdown",
   "metadata": {
    "slideshow": {
     "slide_type": "subslide"
    }
   },
   "source": [
    "Although the columns are gone, we can now see that there are rows where people rounded off their weight. We can fix that by jittering weight as well."
   ]
  },
  {
   "cell_type": "code",
   "execution_count": null,
   "metadata": {
    "slideshow": {
     "slide_type": "fragment"
    }
   },
   "outputs": [],
   "source": []
  },
  {
   "cell_type": "markdown",
   "metadata": {
    "slideshow": {
     "slide_type": "subslide"
    }
   },
   "source": [
    "Finally, let's zoom in on the area where most of the data points are.\n",
    "\n",
    "The `Pyplot` functions `xlim()` and `ylim()` set the lower and upper bounds for the x- and y-axis. In this case, we can plot heights from 140 to 200 centimeters and weights from 20 to 160 kilograms, and our final plot looks like the following."
   ]
  },
  {
   "cell_type": "code",
   "execution_count": null,
   "metadata": {
    "slideshow": {
     "slide_type": "subslide"
    }
   },
   "outputs": [],
   "source": []
  },
  {
   "cell_type": "markdown",
   "metadata": {
    "slideshow": {
     "slide_type": "fragment"
    }
   },
   "source": [
    "Now we have a better picture of the relationship between height and weight compared to the scatter plot we started of with."
   ]
  },
  {
   "cell_type": "markdown",
   "metadata": {
    "slideshow": {
     "slide_type": "slide"
    }
   },
   "source": [
    "### Other useful plot types for science and engineering"
   ]
  },
  {
   "cell_type": "markdown",
   "metadata": {
    "slideshow": {
     "slide_type": "subslide"
    }
   },
   "source": [
    "We will briefly look at two other plot types that are often useful to visualize data from simulations and/or experiments relevent to science and engineering. \n",
    "\n",
    "1. Contours: Useful for visualizing surface data, for example, the temperature on a surface\n",
    "2. Quivers: Useful for visualizing velocity data on surface, for example, the fluid velocity in a cross section"
   ]
  },
  {
   "cell_type": "markdown",
   "metadata": {
    "slideshow": {
     "slide_type": "subslide"
    }
   },
   "source": [
    "Running the code in the cell below will download a file with a 2D dataset. We will read this data into an array and visualize the array as a contour."
   ]
  },
  {
   "cell_type": "code",
   "execution_count": null,
   "metadata": {
    "slideshow": {
     "slide_type": "fragment"
    }
   },
   "outputs": [],
   "source": [
    "if not os.path.exists('fields.txt'):\n",
    "    !wget https://github.com/nishantsule/Data-Visualization-Workshop/raw/master/Data/fields.txt"
   ]
  },
  {
   "cell_type": "markdown",
   "metadata": {
    "slideshow": {
     "slide_type": "subslide"
    }
   },
   "source": [
    "To read data into an array, we will make use of the `loadtxt` function from the `numpy` library, as shown below."
   ]
  },
  {
   "cell_type": "code",
   "execution_count": null,
   "metadata": {
    "slideshow": {
     "slide_type": "fragment"
    }
   },
   "outputs": [],
   "source": [
    "fields = np.loadtxt('fields.txt')"
   ]
  },
  {
   "cell_type": "markdown",
   "metadata": {
    "slideshow": {
     "slide_type": "subslide"
    }
   },
   "source": [
    "Now to visualize the array `fields`, we will use the function `contour` from `pyplot`. Let's plot the negative of the `fields` array."
   ]
  },
  {
   "cell_type": "code",
   "execution_count": null,
   "metadata": {
    "slideshow": {
     "slide_type": "fragment"
    }
   },
   "outputs": [],
   "source": []
  },
  {
   "cell_type": "markdown",
   "metadata": {
    "slideshow": {
     "slide_type": "subslide"
    }
   },
   "source": [
    "Again, this looks ok but we can definitely do better. \n",
    "\n",
    "We did not provide any x or y axis data, so the x and y axes simply display the index of the elements in the `fields` array. You will notice that the number of elements on both these axes is the same. So, the plot should have the aspect ratio of a square and not a reactangle. We can fix this using the `axis` function by providing the keyword `image`, which scales the x and y axes according to their range. Next, we also need to display what the different colored lines actually mean. This can be done by calling the `colorbar` function. We can also change the number of contour lines by providing the number of levels we want. Let's try how 20 levels will look. While we are making this better, let's also add axis labels and a title. Making these changes, we get the following result."
   ]
  },
  {
   "cell_type": "code",
   "execution_count": null,
   "metadata": {
    "slideshow": {
     "slide_type": "subslide"
    }
   },
   "outputs": [],
   "source": []
  },
  {
   "cell_type": "markdown",
   "metadata": {
    "slideshow": {
     "slide_type": "subslide"
    }
   },
   "source": [
    "The resulting plot above looks a bit small. We can change the size of a figure using the `figure` function and providing the keyword `figsize`. The `figsize` keyword takes a tuple with two numbers the width and the height. Also, 20 levels is perhaps too many but we could fill in the contour to make it look better. To visualize a filled contour, the function is called `contourf`. Finally, try some other colormaps using the `cmap` keyword. You can find the names of built-in colormaps [here](https://matplotlib.org/tutorials/colors/colormaps.html). The default colormap is called `viridis`."
   ]
  },
  {
   "cell_type": "code",
   "execution_count": null,
   "metadata": {
    "slideshow": {
     "slide_type": "subslide"
    }
   },
   "outputs": [],
   "source": []
  },
  {
   "cell_type": "markdown",
   "metadata": {
    "slideshow": {
     "slide_type": "subslide"
    }
   },
   "source": [
    "Now, let's calculate the gradient of this scalar field, which produces a 2D vector field. Since vectors have magnitude as well as direction, one way to visualize vector fields is by drawing arrows at the locations of each data point, which is known as a quiver plot. The length of the arrow indicates the magnitude of the vector, while the arrow points along the direction of the vector. To calculate the gradient, we will use the `gradient` function from `numpy`."
   ]
  },
  {
   "cell_type": "code",
   "execution_count": null,
   "metadata": {
    "slideshow": {
     "slide_type": "fragment"
    }
   },
   "outputs": [],
   "source": []
  },
  {
   "cell_type": "markdown",
   "metadata": {
    "slideshow": {
     "slide_type": "subslide"
    }
   },
   "source": [
    "The function for visualizing vector fields as arrows is called `quiver`. Let's see how this looks."
   ]
  },
  {
   "cell_type": "code",
   "execution_count": null,
   "metadata": {
    "slideshow": {
     "slide_type": "fragment"
    }
   },
   "outputs": [],
   "source": []
  },
  {
   "cell_type": "markdown",
   "metadata": {
    "slideshow": {
     "slide_type": "subslide"
    }
   },
   "source": [
    "You guessed it! We can definitely do better. Let's start by making the axes scaled appropriately, make the figure a bit larger, and adding labels."
   ]
  },
  {
   "cell_type": "code",
   "execution_count": null,
   "metadata": {
    "slideshow": {
     "slide_type": "subslide"
    }
   },
   "outputs": [],
   "source": []
  },
  {
   "cell_type": "markdown",
   "metadata": {
    "slideshow": {
     "slide_type": "subslide"
    }
   },
   "source": [
    "Often quivers are useful to visualize on top of the coressponding scalar fields. We can plot both the contour and quivers together to get a better visualization of the data."
   ]
  },
  {
   "cell_type": "code",
   "execution_count": null,
   "metadata": {
    "slideshow": {
     "slide_type": "subslide"
    }
   },
   "outputs": [],
   "source": []
  },
  {
   "cell_type": "markdown",
   "metadata": {
    "slideshow": {
     "slide_type": "subslide"
    }
   },
   "source": [
    "## Exercise 2\n",
    "\n",
    "Let's finish off with an exercise. Try to make a visualization similar to the one in the image below. This image was taken from an [economist article comparing sandwich prices in Boston and London](https://www.economist.com/finance-and-economics/2019/09/07/why-americans-pay-more-for-lunch-than-britons-do). The data used in the image is provided in the cell below. \n",
    "\n",
    "*Hint:* To generate the horizontal lines between the data points, use the function `hlines` from `pyplot`."
   ]
  },
  {
   "cell_type": "markdown",
   "metadata": {
    "slideshow": {
     "slide_type": "subslide"
    }
   },
   "source": [
    "![img](https://raw.githubusercontent.com/nishantsule/Data-Visualization-Workshop/master/Images/economist_sandwich.png)"
   ]
  },
  {
   "cell_type": "code",
   "execution_count": null,
   "metadata": {
    "slideshow": {
     "slide_type": "subslide"
    }
   },
   "outputs": [],
   "source": [
    "name_list = ['Lobster roll', 'Chicken caesar', 'Bang bang chicken', \n",
    "             'Ham and cheese', 'Tuna and cucumber', 'Egg']\n",
    "boston_price_list = [9.99, 7.99, 7.49, 7, 6.29, 4.99]\n",
    "london_price_list = [7.5, 5, 4.4, 5, 3.75, 2.25]"
   ]
  },
  {
   "cell_type": "code",
   "execution_count": null,
   "metadata": {
    "slideshow": {
     "slide_type": "subslide"
    }
   },
   "outputs": [],
   "source": [
    "# Solution\n"
   ]
  },
  {
   "cell_type": "markdown",
   "metadata": {
    "slideshow": {
     "slide_type": "slide"
    }
   },
   "source": [
    "Before we end, I should mention that in this workshop we have exclusively used what is known as the pyplot interface of `matplotlib`. `matplotlib` allows a more object-oriented approach to generating visuals that we have not at all seen. The object-oriented approach is more powerful as you get a lot more control over all the elements of the figure. However, considering the level of this workshop, I decided to not stick to the easier pyplot interface. If you are interested please look at tutorials for `matplotlib` [here](https://matplotlib.org/tutorials/index.html) and also the documentation [here](https://matplotlib.org/contents.html)."
   ]
  },
  {
   "cell_type": "code",
   "execution_count": null,
   "metadata": {},
   "outputs": [],
   "source": []
  }
 ],
 "metadata": {
  "kernelspec": {
   "display_name": "Python 3",
   "language": "python",
   "name": "python3"
  },
  "language_info": {
   "codemirror_mode": {
    "name": "ipython",
    "version": 3
   },
   "file_extension": ".py",
   "mimetype": "text/x-python",
   "name": "python",
   "nbconvert_exporter": "python",
   "pygments_lexer": "ipython3",
   "version": "3.6.2"
  }
 },
 "nbformat": 4,
 "nbformat_minor": 2
}
