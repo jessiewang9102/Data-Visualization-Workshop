{
 "cells": [
  {
   "cell_type": "code",
   "execution_count": null,
   "metadata": {},
   "outputs": [],
   "source": [
    "from bokeh.plotting import figure \n",
    "from bokeh.io import output_notebook, show\n",
    "# from bokeh.io import output_file, show"
   ]
  },
  {
   "cell_type": "code",
   "execution_count": null,
   "metadata": {},
   "outputs": [],
   "source": [
    "output_notebook()"
   ]
  },
  {
   "cell_type": "code",
   "execution_count": null,
   "metadata": {},
   "outputs": [],
   "source": [
    "import numpy as np\n",
    "x1 = np.linspace(-6.5, 6.5, 100)\n",
    "y1 = np.cos(x1)"
   ]
  },
  {
   "cell_type": "code",
   "execution_count": null,
   "metadata": {},
   "outputs": [],
   "source": [
    "# output_file('p1.html')\n",
    "p1 = figure(width=400, height=400)\n",
    "p1.circle(x1, y1, size=8, color=\"firebrick\", alpha=0.5)\n",
    "show(p1)"
   ]
  },
  {
   "cell_type": "code",
   "execution_count": null,
   "metadata": {},
   "outputs": [],
   "source": [
    "# output_file('p2.html')\n",
    "p2 = figure(width=500, height=400)\n",
    "p2.line(x1, y1, line_width=2, line_color=\"darkslateblue\", line_alpha=0.8)\n",
    "p2.circle(x1, y1, size=10, fill_color=\"lightcoral\", fill_alpha=0.6, line_color='darkred')\n",
    "show(p2)"
   ]
  },
  {
   "cell_type": "code",
   "execution_count": null,
   "metadata": {},
   "outputs": [],
   "source": [
    "x2 = np.linspace(-1.0, 1.0, 100)\n",
    "y2 = np.exp(-(x2**2) / 0.1)\n",
    "y3 = np.exp(-(x2 - 0.5)**2 / 1.5)\n",
    "y4 = np.exp(-(x2 + 0.25)**2 / 1.1)\n",
    "y5 = np.exp(-(x2 - 0.3)**2 / 0.2)"
   ]
  },
  {
   "cell_type": "code",
   "execution_count": null,
   "metadata": {},
   "outputs": [],
   "source": [
    "from bokeh.palettes import all_palettes\n",
    "colors = all_palettes['Spectral'][4]"
   ]
  },
  {
   "cell_type": "markdown",
   "metadata": {},
   "source": [
    "#### All palettes: https://bokeh.pydata.org/en/latest/docs/reference/palettes.html"
   ]
  },
  {
   "cell_type": "code",
   "execution_count": null,
   "metadata": {},
   "outputs": [],
   "source": [
    "# output_file('p3.html')\n",
    "p3 = figure(width=600, height=400)\n",
    "p3.line(x2, y2, color=colors[0], line_width=2, legend='y2')\n",
    "p3.line(x2, y3, color=colors[1], line_width=2, legend='y3')\n",
    "p3.line(x2, y4, color=colors[2], line_width=2, legend='y4')\n",
    "p3.line(x2, y5, color=colors[3], line_width=2, legend='y5')\n",
    "p3.legend.location = 'bottom_center'\n",
    "show(p3)"
   ]
  },
  {
   "cell_type": "code",
   "execution_count": null,
   "metadata": {},
   "outputs": [],
   "source": [
    "from bokeh.layouts import gridplot"
   ]
  },
  {
   "cell_type": "code",
   "execution_count": null,
   "metadata": {},
   "outputs": [],
   "source": [
    "grid1 = gridplot([[p1, p2, p3]], plot_width=200, plot_height=400)\n",
    "show(grid1)"
   ]
  },
  {
   "cell_type": "code",
   "execution_count": null,
   "metadata": {},
   "outputs": [],
   "source": [
    "grid2 = gridplot([[p1, p2], [p3, None]], plot_width=400, plot_height=200)\n",
    "show(grid2)"
   ]
  },
  {
   "cell_type": "code",
   "execution_count": null,
   "metadata": {},
   "outputs": [],
   "source": []
  }
 ],
 "metadata": {
  "kernelspec": {
   "display_name": "Python 3",
   "language": "python",
   "name": "python3"
  },
  "language_info": {
   "codemirror_mode": {
    "name": "ipython",
    "version": 3
   },
   "file_extension": ".py",
   "mimetype": "text/x-python",
   "name": "python",
   "nbconvert_exporter": "python",
   "pygments_lexer": "ipython3",
   "version": "3.6.2"
  }
 },
 "nbformat": 4,
 "nbformat_minor": 2
}
