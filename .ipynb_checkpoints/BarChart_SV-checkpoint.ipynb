{
 "cells": [
  {
   "cell_type": "markdown",
   "metadata": {},
   "source": [
    "#### Import packages"
   ]
  },
  {
   "cell_type": "code",
   "execution_count": null,
   "metadata": {},
   "outputs": [],
   "source": [
    "import numpy as np\n",
    "import matplotlib.pyplot as plt"
   ]
  },
  {
   "cell_type": "markdown",
   "metadata": {},
   "source": [
    "#### Jupyter Notebook Magic command to make matplotlib figures show inline"
   ]
  },
  {
   "cell_type": "code",
   "execution_count": null,
   "metadata": {},
   "outputs": [],
   "source": [
    "%matplotlib notebook"
   ]
  },
  {
   "cell_type": "markdown",
   "metadata": {},
   "source": [
    "#### Read data from file and view the variable names"
   ]
  },
  {
   "cell_type": "code",
   "execution_count": null,
   "metadata": {},
   "outputs": [],
   "source": [
    "data = np.load('UNdataSolarConsumption.npz', encoding='bytes')\n",
    "data.files"
   ]
  },
  {
   "cell_type": "markdown",
   "metadata": {},
   "source": [
    "#### Load the variables into arrays"
   ]
  },
  {
   "cell_type": "code",
   "execution_count": null,
   "metadata": {},
   "outputs": [],
   "source": [
    "australia_qty = data['australia_qty']\n",
    "denmark_qty = data['denmark_qty']\n",
    "france_qty = data['france_qty']\n",
    "germany_qty = data['germany_qty']\n",
    "japan_qty = data['japan_qty']\n",
    "usa_qty = data['usa_qty']\n",
    "year = data['year']"
   ]
  },
  {
   "cell_type": "markdown",
   "metadata": {},
   "source": [
    "#### Flatten the column vectors to a  numpy 1D array for bar chart"
   ]
  },
  {
   "cell_type": "code",
   "execution_count": null,
   "metadata": {},
   "outputs": [],
   "source": [
    "australia_qty = australia_qty.flatten()\n",
    "denmark_qty = denmark_qty.flatten()\n",
    "france_qty = france_qty.flatten()\n",
    "germany_qty = germany_qty.flatten()\n",
    "japan_qty = japan_qty.flatten()\n",
    "usa_qty = usa_qty.flatten()\n",
    "year = year.flatten()"
   ]
  },
  {
   "cell_type": "markdown",
   "metadata": {},
   "source": [
    "#### Plot bar chart of solar consumption in Australia"
   ]
  },
  {
   "cell_type": "code",
   "execution_count": null,
   "metadata": {},
   "outputs": [],
   "source": []
  },
  {
   "cell_type": "markdown",
   "metadata": {},
   "source": [
    "#### Add data from another country"
   ]
  },
  {
   "cell_type": "code",
   "execution_count": null,
   "metadata": {},
   "outputs": [],
   "source": []
  },
  {
   "cell_type": "markdown",
   "metadata": {},
   "source": [
    "#### Add data from all countries"
   ]
  },
  {
   "cell_type": "code",
   "execution_count": null,
   "metadata": {},
   "outputs": [],
   "source": []
  },
  {
   "cell_type": "markdown",
   "metadata": {},
   "source": [
    "#### Convert to percentage and plot a stacked bar chart"
   ]
  },
  {
   "cell_type": "code",
   "execution_count": null,
   "metadata": {},
   "outputs": [],
   "source": [
    "australia_qty = australia_qty.astype(float)\n",
    "denmark_qty = denmark_qty.astype(float)\n",
    "france_qty = france_qty.astype(float)\n",
    "germany_qty = germany_qty.astype(float)\n",
    "japan_qty = japan_qty.astype(float)\n",
    "usa_qty = usa_qty.astype(float)\n",
    "total_qty = australia_qty + denmark_qty + france_qty + germany_qty + japan_qty + usa_qty\n",
    "australiap = np.true_divide(australia_qty, total_qty) * 100;\n",
    "denmarkp = np.true_divide(denmark_qty, total_qty) * 100;\n",
    "francep = np.true_divide(france_qty, total_qty) * 100;\n",
    "germanyp = np.true_divide(germany_qty, total_qty) * 100;\n",
    "japanp = np.true_divide(japan_qty, total_qty) * 100;\n",
    "usap = np.true_divide(usa_qty, total_qty) * 100;"
   ]
  },
  {
   "cell_type": "code",
   "execution_count": null,
   "metadata": {},
   "outputs": [],
   "source": []
  },
  {
   "cell_type": "code",
   "execution_count": null,
   "metadata": {},
   "outputs": [],
   "source": []
  }
 ],
 "metadata": {
  "kernelspec": {
   "display_name": "Python 3",
   "language": "python",
   "name": "python3"
  },
  "language_info": {
   "codemirror_mode": {
    "name": "ipython",
    "version": 3
   },
   "file_extension": ".py",
   "mimetype": "text/x-python",
   "name": "python",
   "nbconvert_exporter": "python",
   "pygments_lexer": "ipython3",
   "version": "3.6.2"
  }
 },
 "nbformat": 4,
 "nbformat_minor": 2
}
